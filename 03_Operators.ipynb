{
 "cells": [
  {
   "cell_type": "markdown",
   "id": "0cda21b2",
   "metadata": {},
   "source": [
    "# Operators  "
   ]
  },
  {
   "cell_type": "raw",
   "id": "7a7939dd",
   "metadata": {},
   "source": [
    "1. Operators are the tools or keys used to operate one or more opearends\n",
    "2. for ex: a+b\n",
    "3. here a,b are operands and '+' is an operator    "
   ]
  },
  {
   "cell_type": "raw",
   "id": "230a8ec9",
   "metadata": {},
   "source": [
    "Operators in python\n",
    "  1. Arithmetic\n",
    "  2. Relational\n",
    "  3. Assignment"
   ]
  },
  {
   "cell_type": "markdown",
   "id": "9f9d9e5b",
   "metadata": {},
   "source": [
    "# Arithmetic"
   ]
  },
  {
   "cell_type": "raw",
   "id": "15988fde",
   "metadata": {},
   "source": [
    "These are basic mathematical operators like\n",
    "i. Basic\n",
    "    1. Addition (+)\n",
    "    2. Subtraction (-)\n",
    "    3. Multiplication (*)\n",
    "    4. Division (/)\n",
    "\n",
    "ii. Advanced\n",
    "    1. Floor division (//)\n",
    "    2. Modulus (%)\n",
    "    3. Exponent (**)"
   ]
  },
  {
   "cell_type": "markdown",
   "id": "01f3faf0",
   "metadata": {},
   "source": [
    "Basic"
   ]
  },
  {
   "cell_type": "code",
   "execution_count": 2,
   "id": "48909bc9",
   "metadata": {},
   "outputs": [],
   "source": [
    "a=3\n",
    "b=2"
   ]
  },
  {
   "cell_type": "code",
   "execution_count": 3,
   "id": "b2bdfc7f",
   "metadata": {},
   "outputs": [
    {
     "name": "stdout",
     "output_type": "stream",
     "text": [
      "5\n"
     ]
    }
   ],
   "source": [
    "#Addition\n",
    "c = a+b\n",
    "print(c)"
   ]
  },
  {
   "cell_type": "code",
   "execution_count": 4,
   "id": "c2d0477e",
   "metadata": {},
   "outputs": [
    {
     "name": "stdout",
     "output_type": "stream",
     "text": [
      "1\n"
     ]
    }
   ],
   "source": [
    "#Subtraction\n",
    "c = a-b\n",
    "print(c)"
   ]
  },
  {
   "cell_type": "code",
   "execution_count": 6,
   "id": "86347761",
   "metadata": {},
   "outputs": [
    {
     "name": "stdout",
     "output_type": "stream",
     "text": [
      "6\n"
     ]
    }
   ],
   "source": [
    "#Multiplication\n",
    "c = a*b\n",
    "print(c)"
   ]
  },
  {
   "cell_type": "code",
   "execution_count": 7,
   "id": "ea361e98",
   "metadata": {},
   "outputs": [
    {
     "name": "stdout",
     "output_type": "stream",
     "text": [
      "1.5\n"
     ]
    }
   ],
   "source": [
    "#Division\n",
    "c = a/b\n",
    "print(c)  "
   ]
  },
  {
   "cell_type": "markdown",
   "id": "f660931b",
   "metadata": {},
   "source": [
    "Advanced"
   ]
  },
  {
   "cell_type": "code",
   "execution_count": 8,
   "id": "285dac10",
   "metadata": {},
   "outputs": [
    {
     "name": "stdout",
     "output_type": "stream",
     "text": [
      "1\n"
     ]
    }
   ],
   "source": [
    "#floor division\n",
    "d = a//b\n",
    "print(d)"
   ]
  },
  {
   "cell_type": "code",
   "execution_count": 9,
   "id": "78d91968",
   "metadata": {},
   "outputs": [
    {
     "name": "stdout",
     "output_type": "stream",
     "text": [
      "1\n"
     ]
    }
   ],
   "source": [
    "#modulo\n",
    "d = a%b\n",
    "print(d)"
   ]
  },
  {
   "cell_type": "code",
   "execution_count": 10,
   "id": "4fa732a8",
   "metadata": {},
   "outputs": [
    {
     "name": "stdout",
     "output_type": "stream",
     "text": [
      "9\n"
     ]
    }
   ],
   "source": [
    "#exponent\n",
    "d = a**b\n",
    "print(d)"
   ]
  },
  {
   "cell_type": "raw",
   "id": "67cb3988",
   "metadata": {},
   "source": [
    "In the above code...\n",
    "** is exponent or power fucntion 3**2=9\n",
    "// is integer division or floor division 3/2=1.5 but 3//2=1\n",
    "% is mod value it returns the reminder of operands 3/2=1 but reminder is 1... so 3%2=1"
   ]
  },
  {
   "cell_type": "markdown",
   "id": "d1ecc0d6",
   "metadata": {},
   "source": [
    "# Relational"
   ]
  },
  {
   "cell_type": "raw",
   "id": "7d2d38ca",
   "metadata": {},
   "source": [
    "1. It returns the True or False (Boolean values)\n",
    "    > (greater than)\n",
    "    < (lesser than)\n",
    "    == (is equal)\n",
    "    >= (greater than or equal to)\n",
    "    <= (lesser than or equal to)\n",
    "    != (not equal to)\n",
    "2. like...consider a=2,b=3, is a is equal to b? no right?\n",
    "   a==b .. it will say \"False\"\n",
    "   a>b  .. False\n",
    "   a<b  .. True \n",
    "   a!=b .. True"
   ]
  },
  {
   "cell_type": "code",
   "execution_count": 10,
   "id": "93344ec5",
   "metadata": {},
   "outputs": [],
   "source": [
    "a,b=2,3"
   ]
  },
  {
   "cell_type": "code",
   "execution_count": 11,
   "id": "2c3ea9dd",
   "metadata": {},
   "outputs": [
    {
     "data": {
      "text/plain": [
       "False"
      ]
     },
     "execution_count": 11,
     "metadata": {},
     "output_type": "execute_result"
    }
   ],
   "source": [
    "a==b"
   ]
  },
  {
   "cell_type": "code",
   "execution_count": 12,
   "id": "a8bcf45f",
   "metadata": {},
   "outputs": [
    {
     "data": {
      "text/plain": [
       "False"
      ]
     },
     "execution_count": 12,
     "metadata": {},
     "output_type": "execute_result"
    }
   ],
   "source": [
    "a>b"
   ]
  },
  {
   "cell_type": "code",
   "execution_count": 13,
   "id": "1f18822c",
   "metadata": {},
   "outputs": [
    {
     "data": {
      "text/plain": [
       "True"
      ]
     },
     "execution_count": 13,
     "metadata": {},
     "output_type": "execute_result"
    }
   ],
   "source": [
    "a<b"
   ]
  },
  {
   "cell_type": "code",
   "execution_count": 14,
   "id": "50cf9013",
   "metadata": {},
   "outputs": [
    {
     "data": {
      "text/plain": [
       "True"
      ]
     },
     "execution_count": 14,
     "metadata": {},
     "output_type": "execute_result"
    }
   ],
   "source": [
    "a!=b "
   ]
  },
  {
   "cell_type": "markdown",
   "id": "e10ca89a",
   "metadata": {},
   "source": [
    "# Assignment operator"
   ]
  },
  {
   "cell_type": "raw",
   "id": "43550e68",
   "metadata": {},
   "source": [
    "The operators which are used to assign the value for the variable is called as the assignment operator\n",
    "The assignment operators are 1. =\n",
    "                             2. a+=2 (a=a+2)\n",
    "                             3. -=\n",
    "                             4. *=\n",
    "                             5. /=\n",
    "                             6. %=\n",
    "                             7. **=\n",
    "                             8. //="
   ]
  },
  {
   "cell_type": "code",
   "execution_count": 5,
   "id": "9854a82c",
   "metadata": {},
   "outputs": [
    {
     "data": {
      "text/plain": [
       "3"
      ]
     },
     "execution_count": 5,
     "metadata": {},
     "output_type": "execute_result"
    }
   ],
   "source": [
    "a=1\n",
    "a+=2 #(a=1+2)\n",
    "a"
   ]
  },
  {
   "cell_type": "code",
   "execution_count": 6,
   "id": "bf188b2b",
   "metadata": {
    "scrolled": true
   },
   "outputs": [
    {
     "data": {
      "text/plain": [
       "2"
      ]
     },
     "execution_count": 6,
     "metadata": {},
     "output_type": "execute_result"
    }
   ],
   "source": [
    "a-=1\n",
    "a"
   ]
  },
  {
   "cell_type": "code",
   "execution_count": 14,
   "id": "e02abadb",
   "metadata": {},
   "outputs": [
    {
     "data": {
      "text/plain": [
       "4"
      ]
     },
     "execution_count": 14,
     "metadata": {},
     "output_type": "execute_result"
    }
   ],
   "source": [
    "a*=2\n",
    "a"
   ]
  },
  {
   "cell_type": "code",
   "execution_count": 15,
   "id": "60289ac6",
   "metadata": {
    "scrolled": true
   },
   "outputs": [
    {
     "data": {
      "text/plain": [
       "2.0"
      ]
     },
     "execution_count": 15,
     "metadata": {},
     "output_type": "execute_result"
    }
   ],
   "source": [
    "a/=2\n",
    "a"
   ]
  },
  {
   "cell_type": "code",
   "execution_count": 16,
   "id": "95b9fdb7",
   "metadata": {},
   "outputs": [
    {
     "data": {
      "text/plain": [
       "4.0"
      ]
     },
     "execution_count": 16,
     "metadata": {},
     "output_type": "execute_result"
    }
   ],
   "source": [
    "a**=2\n",
    "a"
   ]
  },
  {
   "cell_type": "code",
   "execution_count": 1,
   "id": "8f6c9242",
   "metadata": {
    "scrolled": true
   },
   "outputs": [
    {
     "data": {
      "text/plain": [
       "4"
      ]
     },
     "execution_count": 1,
     "metadata": {},
     "output_type": "execute_result"
    }
   ],
   "source": [
    "a=8\n",
    "a//=2\n",
    "a"
   ]
  },
  {
   "cell_type": "markdown",
   "id": "3bc68b8d",
   "metadata": {},
   "source": [
    "# Logical Operators"
   ]
  },
  {
   "cell_type": "code",
   "execution_count": 1,
   "id": "9d117b65",
   "metadata": {},
   "outputs": [],
   "source": [
    "x = 5\n",
    "y = 10\n",
    "z = 15"
   ]
  },
  {
   "cell_type": "code",
   "execution_count": 32,
   "id": "66d00c34",
   "metadata": {},
   "outputs": [
    {
     "name": "stdout",
     "output_type": "stream",
     "text": [
      "True\n"
     ]
    }
   ],
   "source": [
    "# AND Operator\n",
    "print(x < y and z > y)   # Output: True"
   ]
  },
  {
   "cell_type": "code",
   "execution_count": 33,
   "id": "a39084e0",
   "metadata": {},
   "outputs": [
    {
     "name": "stdout",
     "output_type": "stream",
     "text": [
      "True\n"
     ]
    }
   ],
   "source": [
    "# OR Operator\n",
    "print(x > y or z > y)    # Output: True"
   ]
  },
  {
   "cell_type": "code",
   "execution_count": 2,
   "id": "c8437032",
   "metadata": {},
   "outputs": [
    {
     "name": "stdout",
     "output_type": "stream",
     "text": [
      "True\n"
     ]
    }
   ],
   "source": [
    "# NOT Operator\n",
    "print(not x > y)         # Output: True"
   ]
  },
  {
   "cell_type": "markdown",
   "id": "0d16f47a",
   "metadata": {},
   "source": [
    "# Bitwise operator"
   ]
  },
  {
   "cell_type": "code",
   "execution_count": 11,
   "id": "e1ed2fb9",
   "metadata": {},
   "outputs": [],
   "source": [
    "x = 10   # Binary: 1010\n",
    "y = 6    # Binary: 0110"
   ]
  },
  {
   "cell_type": "code",
   "execution_count": 13,
   "id": "d8544f07",
   "metadata": {},
   "outputs": [
    {
     "name": "stdout",
     "output_type": "stream",
     "text": [
      "2\n"
     ]
    },
    {
     "data": {
      "text/plain": [
       "'\\n1010\\n0110 + \\n0010 \\n'"
      ]
     },
     "execution_count": 13,
     "metadata": {},
     "output_type": "execute_result"
    }
   ],
   "source": [
    "# AND Operator\n",
    "print(x & y)   # Output: 2  (Binary: 0010)\n",
    "'''\n",
    "1010\n",
    "0110 (&) \n",
    "0010 \n",
    "'''"
   ]
  },
  {
   "cell_type": "code",
   "execution_count": 37,
   "id": "d2ead090",
   "metadata": {},
   "outputs": [
    {
     "name": "stdout",
     "output_type": "stream",
     "text": [
      "14\n"
     ]
    }
   ],
   "source": [
    "# OR Operator\n",
    "print(x | y)   # Output: 14 (Binary: 1110)"
   ]
  },
  {
   "cell_type": "code",
   "execution_count": 38,
   "id": "2b600ea7",
   "metadata": {},
   "outputs": [
    {
     "name": "stdout",
     "output_type": "stream",
     "text": [
      "12\n"
     ]
    }
   ],
   "source": [
    "# XOR Operator\n",
    "print(x ^ y)   # Output: 12 (Binary: 1100)"
   ]
  },
  {
   "cell_type": "code",
   "execution_count": 39,
   "id": "5ef22620",
   "metadata": {},
   "outputs": [
    {
     "name": "stdout",
     "output_type": "stream",
     "text": [
      "-11\n"
     ]
    }
   ],
   "source": [
    "# NOT Operator\n",
    "print(~x)      # Output: -11 (Binary: 0101, Two's Complement: 1011)"
   ]
  },
  {
   "cell_type": "code",
   "execution_count": 11,
   "id": "7fe1ab3e",
   "metadata": {},
   "outputs": [
    {
     "name": "stdout",
     "output_type": "stream",
     "text": [
      "20\n"
     ]
    }
   ],
   "source": [
    "x=10\n",
    "# Left Shift Operator\n",
    "print(x << 1) "
   ]
  },
  {
   "cell_type": "code",
   "execution_count": 14,
   "id": "3145c42c",
   "metadata": {},
   "outputs": [
    {
     "name": "stdout",
     "output_type": "stream",
     "text": [
      "2\n"
     ]
    }
   ],
   "source": [
    "x=10\n",
    "# Right Shift Operator\n",
    "print(x >> 2)\n",
    "# 0010"
   ]
  },
  {
   "cell_type": "markdown",
   "id": "07cf02a1",
   "metadata": {},
   "source": [
    "# Membership operator"
   ]
  },
  {
   "cell_type": "code",
   "execution_count": 2,
   "id": "f4405d44",
   "metadata": {},
   "outputs": [],
   "source": [
    "x = [1, 2, 3, 4, 5,6]"
   ]
  },
  {
   "cell_type": "code",
   "execution_count": 3,
   "id": "31afa419",
   "metadata": {},
   "outputs": [
    {
     "name": "stdout",
     "output_type": "stream",
     "text": [
      "True\n"
     ]
    }
   ],
   "source": [
    "# IN Operator\n",
    "print(1 in x)      # Output: True"
   ]
  },
  {
   "cell_type": "code",
   "execution_count": 4,
   "id": "c6e8b882",
   "metadata": {},
   "outputs": [
    {
     "name": "stdout",
     "output_type": "stream",
     "text": [
      "True\n"
     ]
    }
   ],
   "source": [
    "# NOT IN Operator\n",
    "print(16 not in x)  # Output: True"
   ]
  },
  {
   "cell_type": "markdown",
   "id": "c6b8b710",
   "metadata": {},
   "source": [
    "## Identity operator"
   ]
  },
  {
   "cell_type": "code",
   "execution_count": 45,
   "id": "4fdc423d",
   "metadata": {},
   "outputs": [],
   "source": [
    "x = 10\n",
    "y = 10"
   ]
  },
  {
   "cell_type": "code",
   "execution_count": 46,
   "id": "041b0cf2",
   "metadata": {},
   "outputs": [
    {
     "name": "stdout",
     "output_type": "stream",
     "text": [
      "True\n"
     ]
    }
   ],
   "source": [
    "# IS Operator\n",
    "print(x is y)        # Output: True"
   ]
  },
  {
   "cell_type": "code",
   "execution_count": 22,
   "id": "0b43e870",
   "metadata": {
    "scrolled": true
   },
   "outputs": [
    {
     "name": "stdout",
     "output_type": "stream",
     "text": [
      "True\n"
     ]
    },
    {
     "name": "stderr",
     "output_type": "stream",
     "text": [
      "<>:2: SyntaxWarning: \"is not\" with a literal. Did you mean \"!=\"?\n",
      "<>:2: SyntaxWarning: \"is not\" with a literal. Did you mean \"!=\"?\n",
      "C:\\Users\\Admin\\AppData\\Local\\Temp\\ipykernel_492\\800619045.py:2: SyntaxWarning: \"is not\" with a literal. Did you mean \"!=\"?\n",
      "  print(x is not 'hello')  # Output: True\n"
     ]
    }
   ],
   "source": [
    "# IS NOT Operator\n",
    "print(x is not 'hello')  # Output: True"
   ]
  },
  {
   "cell_type": "code",
   "execution_count": null,
   "id": "545384f9",
   "metadata": {},
   "outputs": [],
   "source": []
  }
 ],
 "metadata": {
  "kernelspec": {
   "display_name": "Python 3 (ipykernel)",
   "language": "python",
   "name": "python3"
  },
  "language_info": {
   "codemirror_mode": {
    "name": "ipython",
    "version": 3
   },
   "file_extension": ".py",
   "mimetype": "text/x-python",
   "name": "python",
   "nbconvert_exporter": "python",
   "pygments_lexer": "ipython3",
   "version": "3.9.13"
  }
 },
 "nbformat": 4,
 "nbformat_minor": 5
}
