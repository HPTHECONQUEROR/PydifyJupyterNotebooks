{
 "cells": [
  {
   "cell_type": "markdown",
   "id": "9c9f62b5",
   "metadata": {},
   "source": [
    "# Errors and Exceptions"
   ]
  },
  {
   "cell_type": "raw",
   "id": "46de0e8e",
   "metadata": {},
   "source": [
    "There are two types of errors in python\n",
    "1.Syntax errors\n",
    "2.Logical errors (Exceptions)"
   ]
  },
  {
   "cell_type": "code",
   "execution_count": 3,
   "id": "da8b57d9",
   "metadata": {},
   "outputs": [
    {
     "ename": "SyntaxError",
     "evalue": "invalid syntax (131533000.py, line 2)",
     "output_type": "error",
     "traceback": [
      "\u001b[1;36m  File \u001b[1;32m\"C:\\Users\\Admin\\AppData\\Local\\Temp\\ipykernel_2652\\131533000.py\"\u001b[1;36m, line \u001b[1;32m2\u001b[0m\n\u001b[1;33m    for i in a\u001b[0m\n\u001b[1;37m              ^\u001b[0m\n\u001b[1;31mSyntaxError\u001b[0m\u001b[1;31m:\u001b[0m invalid syntax\n"
     ]
    }
   ],
   "source": [
    "a=[1,2,3]\n",
    "for i in a\n",
    " print(i)\n",
    "#Throws a syntax error"
   ]
  },
  {
   "cell_type": "code",
   "execution_count": 5,
   "id": "6042cc1c",
   "metadata": {
    "scrolled": true
   },
   "outputs": [
    {
     "ename": "ZeroDivisionError",
     "evalue": "division by zero",
     "output_type": "error",
     "traceback": [
      "\u001b[1;31m---------------------------------------------------------------------------\u001b[0m",
      "\u001b[1;31mZeroDivisionError\u001b[0m                         Traceback (most recent call last)",
      "\u001b[1;32m~\\AppData\\Local\\Temp\\ipykernel_2652\\2123748659.py\u001b[0m in \u001b[0;36m<module>\u001b[1;34m\u001b[0m\n\u001b[1;32m----> 1\u001b[1;33m \u001b[0mprint\u001b[0m\u001b[1;33m(\u001b[0m\u001b[1;36m0\u001b[0m\u001b[1;33m/\u001b[0m\u001b[1;36m0\u001b[0m\u001b[1;33m)\u001b[0m\u001b[1;33m\u001b[0m\u001b[1;33m\u001b[0m\u001b[0m\n\u001b[0m\u001b[0;32m      2\u001b[0m \u001b[1;31m#Throws ZeroDivisionError\u001b[0m\u001b[1;33m\u001b[0m\u001b[1;33m\u001b[0m\u001b[0m\n",
      "\u001b[1;31mZeroDivisionError\u001b[0m: division by zero"
     ]
    }
   ],
   "source": [
    "print(0/0)\n",
    "#Throws ZeroDivisionError"
   ]
  },
  {
   "cell_type": "code",
   "execution_count": 6,
   "id": "c1ec61fd",
   "metadata": {},
   "outputs": [
    {
     "ename": "IndentationError",
     "evalue": "expected an indented block (17981297.py, line 2)",
     "output_type": "error",
     "traceback": [
      "\u001b[1;36m  File \u001b[1;32m\"C:\\Users\\Admin\\AppData\\Local\\Temp\\ipykernel_2652\\17981297.py\"\u001b[1;36m, line \u001b[1;32m2\u001b[0m\n\u001b[1;33m    print('hello')\u001b[0m\n\u001b[1;37m    ^\u001b[0m\n\u001b[1;31mIndentationError\u001b[0m\u001b[1;31m:\u001b[0m expected an indented block\n"
     ]
    }
   ],
   "source": [
    "while True:\n",
    "print('hello')\n",
    "\n",
    "#IndentationError"
   ]
  },
  {
   "cell_type": "markdown",
   "id": "62dc987d",
   "metadata": {},
   "source": [
    "# Handling errors in python"
   ]
  },
  {
   "cell_type": "code",
   "execution_count": 7,
   "id": "6c8c6a3a",
   "metadata": {},
   "outputs": [
    {
     "ename": "ZeroDivisionError",
     "evalue": "division by zero",
     "output_type": "error",
     "traceback": [
      "\u001b[1;31m---------------------------------------------------------------------------\u001b[0m",
      "\u001b[1;31mZeroDivisionError\u001b[0m                         Traceback (most recent call last)",
      "\u001b[1;32m~\\AppData\\Local\\Temp\\ipykernel_2652\\165659023.py\u001b[0m in \u001b[0;36m<module>\u001b[1;34m\u001b[0m\n\u001b[1;32m----> 1\u001b[1;33m \u001b[0mprint\u001b[0m\u001b[1;33m(\u001b[0m\u001b[1;36m1\u001b[0m\u001b[1;33m/\u001b[0m\u001b[1;36m0\u001b[0m\u001b[1;33m)\u001b[0m\u001b[1;33m\u001b[0m\u001b[1;33m\u001b[0m\u001b[0m\n\u001b[0m",
      "\u001b[1;31mZeroDivisionError\u001b[0m: division by zero"
     ]
    }
   ],
   "source": [
    "print(1/0)"
   ]
  },
  {
   "cell_type": "markdown",
   "id": "f7b8bdfe",
   "metadata": {},
   "source": [
    "# try, except"
   ]
  },
  {
   "cell_type": "code",
   "execution_count": 9,
   "id": "e4d4f573",
   "metadata": {},
   "outputs": [
    {
     "name": "stdout",
     "output_type": "stream",
     "text": [
      "Don't use zero in denominator !\n"
     ]
    }
   ],
   "source": [
    "try:\n",
    "    print(1/0)\n",
    "except:\n",
    "    print(\"Don't use zero in denominator !\")"
   ]
  },
  {
   "cell_type": "markdown",
   "id": "4382e8d0",
   "metadata": {},
   "source": [
    "# try, except with parameters"
   ]
  },
  {
   "cell_type": "code",
   "execution_count": 12,
   "id": "01754aa4",
   "metadata": {},
   "outputs": [
    {
     "ename": "IndentationError",
     "evalue": "expected an indented block (630281933.py, line 3)",
     "output_type": "error",
     "traceback": [
      "\u001b[1;36m  File \u001b[1;32m\"C:\\Users\\Admin\\AppData\\Local\\Temp\\ipykernel_7604\\630281933.py\"\u001b[1;36m, line \u001b[1;32m3\u001b[0m\n\u001b[1;33m    print(2)\u001b[0m\n\u001b[1;37m    ^\u001b[0m\n\u001b[1;31mIndentationError\u001b[0m\u001b[1;31m:\u001b[0m expected an indented block\n"
     ]
    }
   ],
   "source": [
    "try:\n",
    "    for i in range(1):\n",
    "    print(2)    \n",
    "except:\n",
    "        print('do it correclty')"
   ]
  },
  {
   "cell_type": "markdown",
   "id": "3da901f8",
   "metadata": {},
   "source": [
    "# try, except, finally"
   ]
  },
  {
   "cell_type": "code",
   "execution_count": 16,
   "id": "c6b3c24d",
   "metadata": {},
   "outputs": [
    {
     "name": "stdout",
     "output_type": "stream",
     "text": [
      "Don't use zero for denominator\n",
      "this is the final block\n"
     ]
    }
   ],
   "source": [
    "try:\n",
    "    print(1/0)\n",
    "except:\n",
    "    print(\"Don't use zero for denominator\")\n",
    "finally:\n",
    "    print('this is the final block')"
   ]
  },
  {
   "cell_type": "markdown",
   "id": "83205be2",
   "metadata": {},
   "source": [
    "# try, except, else"
   ]
  },
  {
   "cell_type": "code",
   "execution_count": 18,
   "id": "5076c1ea",
   "metadata": {
    "scrolled": true
   },
   "outputs": [
    {
     "name": "stdout",
     "output_type": "stream",
     "text": [
      "1.0\n",
      "the code is running with 0 errors\n"
     ]
    }
   ],
   "source": [
    "try:\n",
    "    print(1/1)\n",
    "except:\n",
    "    print(\"Don't use zero for denominator\")\n",
    "else:\n",
    "    print('the code is running with 0 errors')"
   ]
  },
  {
   "cell_type": "markdown",
   "id": "f2da0575",
   "metadata": {},
   "source": [
    "# try, except, else, finally"
   ]
  },
  {
   "cell_type": "code",
   "execution_count": 20,
   "id": "2a4a5104",
   "metadata": {},
   "outputs": [
    {
     "name": "stdout",
     "output_type": "stream",
     "text": [
      "Don't use zero for denominator\n",
      "the final block\n",
      "The end!\n"
     ]
    }
   ],
   "source": [
    "try:\n",
    "    print(1/0)\n",
    "except:\n",
    "    print(\"Don't use zero for denominator\")\n",
    "else:\n",
    "    print('the code is running with 0 errors')\n",
    "finally:\n",
    "    print('the final block')\n",
    "print('The end!')"
   ]
  },
  {
   "cell_type": "markdown",
   "id": "3b27a106",
   "metadata": {},
   "source": [
    "# Raise Exception"
   ]
  },
  {
   "cell_type": "code",
   "execution_count": 31,
   "id": "05a73b31",
   "metadata": {},
   "outputs": [
    {
     "name": "stdout",
     "output_type": "stream",
     "text": [
      "1\n"
     ]
    },
    {
     "ename": "Exception",
     "evalue": "DontUse1Error",
     "output_type": "error",
     "traceback": [
      "\u001b[1;31m---------------------------------------------------------------------------\u001b[0m",
      "\u001b[1;31mException\u001b[0m                                 Traceback (most recent call last)",
      "\u001b[1;32m~\\AppData\\Local\\Temp\\ipykernel_7604\\1031105732.py\u001b[0m in \u001b[0;36m<module>\u001b[1;34m\u001b[0m\n\u001b[0;32m      1\u001b[0m \u001b[0ma\u001b[0m\u001b[1;33m=\u001b[0m\u001b[0mint\u001b[0m\u001b[1;33m(\u001b[0m\u001b[0minput\u001b[0m\u001b[1;33m(\u001b[0m\u001b[1;33m)\u001b[0m\u001b[1;33m)\u001b[0m\u001b[1;33m\u001b[0m\u001b[1;33m\u001b[0m\u001b[0m\n\u001b[0;32m      2\u001b[0m \u001b[1;32mif\u001b[0m \u001b[0ma\u001b[0m\u001b[1;33m==\u001b[0m\u001b[1;36m1\u001b[0m\u001b[1;33m:\u001b[0m\u001b[1;33m\u001b[0m\u001b[1;33m\u001b[0m\u001b[0m\n\u001b[1;32m----> 3\u001b[1;33m         \u001b[1;32mraise\u001b[0m \u001b[0mException\u001b[0m\u001b[1;33m(\u001b[0m\u001b[1;34m'DontUse1Error'\u001b[0m\u001b[1;33m)\u001b[0m\u001b[1;33m\u001b[0m\u001b[1;33m\u001b[0m\u001b[0m\n\u001b[0m\u001b[0;32m      4\u001b[0m \u001b[1;32melse\u001b[0m\u001b[1;33m:\u001b[0m\u001b[1;33m\u001b[0m\u001b[1;33m\u001b[0m\u001b[0m\n\u001b[0;32m      5\u001b[0m         \u001b[0mprint\u001b[0m\u001b[1;33m(\u001b[0m\u001b[1;36m1\u001b[0m\u001b[1;33m/\u001b[0m\u001b[0ma\u001b[0m\u001b[1;33m)\u001b[0m\u001b[1;33m\u001b[0m\u001b[1;33m\u001b[0m\u001b[0m\n",
      "\u001b[1;31mException\u001b[0m: DontUse1Error"
     ]
    }
   ],
   "source": [
    "try:\n",
    "    a=int(input())\n",
    "    if a==1:\n",
    "        raise Exception('DontUse1Error')\n",
    "    else:\n",
    "        print(1/a)\n",
    "except:\n",
    "    print('Do not use one its dangerous!')\n",
    "else:\n",
    "    print('The code is running with no errors !')\n",
    "finally:\n",
    "    print('This is the final block')\n",
    "print('The End!')"
   ]
  },
  {
   "cell_type": "code",
   "execution_count": 27,
   "id": "53160211",
   "metadata": {
    "scrolled": false
   },
   "outputs": [
    {
     "name": "stdout",
     "output_type": "stream",
     "text": [
      "31\n"
     ]
    },
    {
     "ename": "Exception",
     "evalue": "Age Should not be greater than 20",
     "output_type": "error",
     "traceback": [
      "\u001b[1;31m---------------------------------------------------------------------------\u001b[0m",
      "\u001b[1;31mException\u001b[0m                                 Traceback (most recent call last)",
      "\u001b[1;32m~\\AppData\\Local\\Temp\\ipykernel_7604\\65573824.py\u001b[0m in \u001b[0;36m<module>\u001b[1;34m\u001b[0m\n\u001b[0;32m      1\u001b[0m \u001b[0mage\u001b[0m \u001b[1;33m=\u001b[0m \u001b[0mint\u001b[0m\u001b[1;33m(\u001b[0m\u001b[0minput\u001b[0m\u001b[1;33m(\u001b[0m\u001b[1;33m)\u001b[0m\u001b[1;33m)\u001b[0m\u001b[1;33m\u001b[0m\u001b[1;33m\u001b[0m\u001b[0m\n\u001b[0;32m      2\u001b[0m \u001b[1;32mif\u001b[0m \u001b[0mage\u001b[0m \u001b[1;33m>\u001b[0m \u001b[1;36m21\u001b[0m\u001b[1;33m:\u001b[0m\u001b[1;33m\u001b[0m\u001b[1;33m\u001b[0m\u001b[0m\n\u001b[1;32m----> 3\u001b[1;33m         \u001b[1;32mraise\u001b[0m \u001b[0mException\u001b[0m\u001b[1;33m(\u001b[0m\u001b[1;34m'Age Should not be greater than 20'\u001b[0m\u001b[1;33m)\u001b[0m\u001b[1;33m\u001b[0m\u001b[1;33m\u001b[0m\u001b[0m\n\u001b[0m\u001b[0;32m      4\u001b[0m \u001b[1;32melse\u001b[0m\u001b[1;33m:\u001b[0m\u001b[1;33m\u001b[0m\u001b[1;33m\u001b[0m\u001b[0m\n\u001b[0;32m      5\u001b[0m         \u001b[0mprint\u001b[0m\u001b[1;33m(\u001b[0m\u001b[0mage\u001b[0m\u001b[1;33m)\u001b[0m\u001b[1;33m\u001b[0m\u001b[1;33m\u001b[0m\u001b[0m\n",
      "\u001b[1;31mException\u001b[0m: Age Should not be greater than 20"
     ]
    }
   ],
   "source": [
    "age = int(input())\n",
    "if age > 21:\n",
    "        raise Exception('Age Should not be greater than 20')\n",
    "else:\n",
    "        print(age)"
   ]
  },
  {
   "cell_type": "markdown",
   "id": "2cc3cb71",
   "metadata": {},
   "source": [
    "# Excersize "
   ]
  },
  {
   "cell_type": "raw",
   "id": "64907e9c",
   "metadata": {},
   "source": [
    "Write a program that prompts the user to enter the name of a file and then attempts to open and read the file. Handle the FileNotFoundError exception to display an error message if the file does not exist.\n",
    "\n",
    "input 1 : data.csv \n",
    "output 1 : display the read content"
   ]
  },
  {
   "cell_type": "raw",
   "id": "1f638e62",
   "metadata": {},
   "source": [
    "Write a program that prompts the user to enter a list of numbers separated by commas. Convert the input into a list of integers and calculate the sum of all the numbers. Handle the ValueError exception to display an error message if the user enters invalid input.\n",
    "\n",
    "input 1 : [1,2,3,4]\n",
    "output 1 : 10\n",
    "\n",
    "input 2 : [1,2,r,3,4]\n",
    "output 2 : <your personalised error message>"
   ]
  }
 ],
 "metadata": {
  "kernelspec": {
   "display_name": "Python 3 (ipykernel)",
   "language": "python",
   "name": "python3"
  },
  "language_info": {
   "codemirror_mode": {
    "name": "ipython",
    "version": 3
   },
   "file_extension": ".py",
   "mimetype": "text/x-python",
   "name": "python",
   "nbconvert_exporter": "python",
   "pygments_lexer": "ipython3",
   "version": "3.9.13"
  }
 },
 "nbformat": 4,
 "nbformat_minor": 5
}
