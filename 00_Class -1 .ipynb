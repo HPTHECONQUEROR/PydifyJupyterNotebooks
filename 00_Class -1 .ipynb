{
 "cells": [
  {
   "cell_type": "markdown",
   "id": "6e8589a1",
   "metadata": {},
   "source": [
    "# what is python?"
   ]
  },
  {
   "cell_type": "raw",
   "id": "14199a9d",
   "metadata": {},
   "source": [
    "Python is a popular high-level programming language that is widely used for web development, scientific computing, data analysis, artificial intelligence, and other applications\n",
    "It was first created by Guido van Rossum in the late 1980s and released in 1991.\n",
    "Python is known for its simple syntax, readability, and ease of use, making it a popular choice for people who are just starting to learn programming.\n",
    "It's also a versatile language that can be used for many different purposes, including building websites, analyzing data, and creating artificial intelligence systems.\n",
    "One of the reasons Python has become so popular is because it has a large community of developers who contribute to its development and create useful libraries and tools.\n",
    "This makes it easier for people to use Python for a wide range of tasks without having to write all of the code from scratch."
   ]
  },
  {
   "cell_type": "markdown",
   "id": "405f4639",
   "metadata": {},
   "source": [
    "# what is syntax?"
   ]
  },
  {
   "cell_type": "raw",
   "id": "7213a29e",
   "metadata": {},
   "source": [
    "Syntax refers to the rules and structure that you need to follow when writing code in Python (or any programming language).\n",
    "It's the set of instructions that tell you how to write Python code correctly.\n",
    "Python syntax is relatively simple and easy to understand. \n",
    "Python code is written in plain English and is designed to be easy to read and write"
   ]
  },
  {
   "cell_type": "markdown",
   "id": "81a266b2",
   "metadata": {},
   "source": [
    "# Hello world!"
   ]
  },
  {
   "cell_type": "raw",
   "id": "f5a8aed7",
   "metadata": {},
   "source": [
    "syntax of print statement >>> print(<datatype>) "
   ]
  },
  {
   "cell_type": "code",
   "execution_count": 2,
   "id": "a9988363",
   "metadata": {},
   "outputs": [
    {
     "name": "stdout",
     "output_type": "stream",
     "text": [
      "\"honesty is the best policy!\"\n"
     ]
    }
   ],
   "source": [
    "print('\"honesty is the best policy!\"')\n",
    "#used to print any string we can use double quotes into it"
   ]
  },
  {
   "cell_type": "code",
   "execution_count": 6,
   "id": "8a3e6bf7",
   "metadata": {},
   "outputs": [
    {
     "name": "stdout",
     "output_type": "stream",
     "text": [
      "let s go\n"
     ]
    }
   ],
   "source": [
    "print(\"let's go\")\n",
    "#same usage but we can use single quotes inside it"
   ]
  },
  {
   "cell_type": "code",
   "execution_count": 9,
   "id": "c9e78ac7",
   "metadata": {},
   "outputs": [
    {
     "name": "stdout",
     "output_type": "stream",
     "text": [
      "\"let's  go\"\n"
     ]
    }
   ],
   "source": [
    "print('''\"let's  go\"''') \n",
    "#used to print in multiline"
   ]
  },
  {
   "cell_type": "markdown",
   "id": "d4704740",
   "metadata": {},
   "source": [
    "# Getting input"
   ]
  },
  {
   "cell_type": "raw",
   "id": "ab842322",
   "metadata": {},
   "source": [
    "syntax of input() statement >>> dtype(input(<string>)) "
   ]
  },
  {
   "cell_type": "code",
   "execution_count": 16,
   "id": "ae712f74",
   "metadata": {},
   "outputs": [
    {
     "name": "stdout",
     "output_type": "stream",
     "text": [
      "Enter something : 12\n",
      "<class 'str'>\n"
     ]
    }
   ],
   "source": [
    "a = input('Enter something : ')\n",
    "print(type(a))"
   ]
  },
  {
   "cell_type": "code",
   "execution_count": 13,
   "id": "96b3b2bf",
   "metadata": {},
   "outputs": [
    {
     "name": "stdout",
     "output_type": "stream",
     "text": [
      "Enter some integer : 12\n",
      "<class 'int'>\n"
     ]
    }
   ],
   "source": [
    "a = int(input('Enter some integer : '))\n",
    "print(type(a))"
   ]
  },
  {
   "cell_type": "code",
   "execution_count": 19,
   "id": "ae1351ca",
   "metadata": {},
   "outputs": [
    {
     "name": "stdout",
     "output_type": "stream",
     "text": [
      "Enter something : 12\n",
      "<class 'float'>\n"
     ]
    }
   ],
   "source": [
    "a = float(input('Enter something : '))\n",
    "print(type(a))"
   ]
  },
  {
   "cell_type": "code",
   "execution_count": 20,
   "id": "d092a0f6",
   "metadata": {},
   "outputs": [
    {
     "name": "stdout",
     "output_type": "stream",
     "text": [
      "Enter something : True\n",
      "<class 'bool'>\n"
     ]
    }
   ],
   "source": [
    "a = bool(input('Enter something : '))\n",
    "print(type(a))"
   ]
  },
  {
   "cell_type": "markdown",
   "id": "30c04896",
   "metadata": {},
   "source": [
    "# variables"
   ]
  },
  {
   "cell_type": "raw",
   "id": "4a041705",
   "metadata": {},
   "source": [
    "A variable is a container that stores a value \n",
    "You can think of a variable as a name that you give to a piece of data, like a number or a string\n",
    "This makes it easier to work with data in your program, because you can refer to it by name rather than having to remember the value itself.\n",
    "simply variable is a bucket which has some value in it , it maybe a sting or integer or whatever"
   ]
  },
  {
   "cell_type": "raw",
   "id": "c16b5e2b",
   "metadata": {},
   "source": [
    "syntax of creating a variable >>> var_name = d_type"
   ]
  },
  {
   "cell_type": "raw",
   "id": "0027cbc6",
   "metadata": {},
   "source": [
    "Rules for creating a variable:\n",
    "\n",
    "> A variable name must start with a letter or an underscore (_).\n",
    "> A variable name can only contain letters, numbers, and underscores (_).\n",
    "> Variable names are case sensitive.\n",
    "> Variable names should be descriptive and meaningful.\n",
    "> Python has some reserved keywords that cannot be used as variable names."
   ]
  },
  {
   "cell_type": "raw",
   "id": "e7b86847",
   "metadata": {},
   "source": [
    "Examples of valid variable names:\n",
    "\n",
    "> age\n",
    "> person_name\n",
    "> x\n",
    "> my_var\n",
    "> _age1"
   ]
  },
  {
   "cell_type": "raw",
   "id": "11d16941",
   "metadata": {},
   "source": [
    "Examples of invalid variable names:\n",
    "\n",
    "> 3d_model (variable names cannot start with a number)\n",
    "> person$name (variable names cannot contain special characters)\n",
    "> if (reserved keyword)"
   ]
  },
  {
   "cell_type": "code",
   "execution_count": 21,
   "id": "1a811ef9",
   "metadata": {},
   "outputs": [
    {
     "name": "stdout",
     "output_type": "stream",
     "text": [
      "Enter distance in kilometers: 2\n",
      "Distance in miles:  1.242742\n"
     ]
    }
   ],
   "source": [
    "km = float(input(\"Enter distance in kilometers: \"))\n",
    "conv_fac = 0.621371  \n",
    "miles = km * conv_fac\n",
    "print(\"Distance in miles: \",miles)"
   ]
  },
  {
   "cell_type": "raw",
   "id": "931c14fe",
   "metadata": {},
   "source": [
    "In the above code note the names of the variables they are meaning full"
   ]
  }
 ],
 "metadata": {
  "kernelspec": {
   "display_name": "Python 3 (ipykernel)",
   "language": "python",
   "name": "python3"
  },
  "language_info": {
   "codemirror_mode": {
    "name": "ipython",
    "version": 3
   },
   "file_extension": ".py",
   "mimetype": "text/x-python",
   "name": "python",
   "nbconvert_exporter": "python",
   "pygments_lexer": "ipython3",
   "version": "3.9.13"
  }
 },
 "nbformat": 4,
 "nbformat_minor": 5
}
