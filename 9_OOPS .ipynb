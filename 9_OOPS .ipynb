{
 "cells": [
  {
   "cell_type": "markdown",
   "id": "284bccc2",
   "metadata": {},
   "source": [
    "# OOPs - Object oriented programming pardigm"
   ]
  },
  {
   "cell_type": "raw",
   "id": "8b9b95da",
   "metadata": {},
   "source": [
    "concepts of OOPs 1. classes\n",
    "                 2. objects\n",
    "                 3. Inheritence\n",
    "                 4. encapsulation\n",
    "                 5. polymorphism\n",
    "                 6. Data abstraction"
   ]
  },
  {
   "cell_type": "markdown",
   "id": "35b5ff21",
   "metadata": {},
   "source": [
    "# CLASSES AND OBJECTS"
   ]
  },
  {
   "cell_type": "code",
   "execution_count": 11,
   "id": "38a81dda",
   "metadata": {},
   "outputs": [
    {
     "name": "stdout",
     "output_type": "stream",
     "text": [
      "40\n"
     ]
    }
   ],
   "source": [
    "class Human:               #creating a class\n",
    "    head = 21\n",
    "    tail = 23\n",
    "    hand = 40\n",
    "hari = Human() #Creating an instance of class (object)\n",
    "hp = Human()\n",
    "print(hp.hand)"
   ]
  },
  {
   "cell_type": "code",
   "execution_count": 4,
   "id": "6d28d155",
   "metadata": {},
   "outputs": [
    {
     "name": "stdout",
     "output_type": "stream",
     "text": [
      "21\n"
     ]
    }
   ],
   "source": [
    "class A:\n",
    "    def __init__(self,a): #Constructer in python which converts the class name as a function\n",
    "        self.a=a #self says python to come inside this function to execute it\n",
    "obj=A(21)\n",
    "print(obj.a)"
   ]
  },
  {
   "cell_type": "markdown",
   "id": "2ee6fc6c",
   "metadata": {},
   "source": [
    "# INHERITENCE"
   ]
  },
  {
   "cell_type": "raw",
   "id": "09a5751c",
   "metadata": {},
   "source": [
    "Types of inheritence 1.single inheritence\n",
    "                     2.multiple inheritence\n",
    "                     3.multilevel inheritence\n",
    "                     4.hierarchical inheritence\n",
    "                     5.hybrid inheritence"
   ]
  },
  {
   "cell_type": "code",
   "execution_count": 5,
   "id": "e9f8aec5",
   "metadata": {},
   "outputs": [
    {
     "name": "stdout",
     "output_type": "stream",
     "text": [
      "attribute of parent\n",
      "attribute of child\n"
     ]
    }
   ],
   "source": [
    "#single inheritence\n",
    "\n",
    "class A:\n",
    "    a='attribute of parent'\n",
    "    \n",
    "class B(A):\n",
    "    b='attribute of child'\n",
    "    \n",
    "obj=B()\n",
    "print(obj.a)\n",
    "print(obj.b)"
   ]
  },
  {
   "cell_type": "code",
   "execution_count": 6,
   "id": "a95dac91",
   "metadata": {},
   "outputs": [
    {
     "name": "stdout",
     "output_type": "stream",
     "text": [
      "attribute of parent A\n",
      "attribute of parent B\n",
      "attribute of Child C\n",
      "hello\n"
     ]
    }
   ],
   "source": [
    "#multiple inheritence\n",
    "\n",
    "class A:\n",
    "    def jpeg(self):\n",
    "        return 'hello'\n",
    "    a='attribute of parent A'\n",
    "class B:\n",
    "    b='attribute of parent B'\n",
    "class C(A,B):\n",
    "    c='attribute of Child C'\n",
    "    \n",
    "obj=C()\n",
    "print(obj.a)\n",
    "print(obj.b)\n",
    "print(obj.c)\n",
    "print(obj.jpeg())"
   ]
  },
  {
   "cell_type": "code",
   "execution_count": 7,
   "id": "4584a3d2",
   "metadata": {},
   "outputs": [
    {
     "name": "stdout",
     "output_type": "stream",
     "text": [
      "attribute of Grand parent A\n",
      "attribute of parent B\n",
      "attribute of Child C\n"
     ]
    }
   ],
   "source": [
    "#multilevel inheritence\n",
    "\n",
    "class A:\n",
    "    a='attribute of Grand parent A'\n",
    "class B(A):\n",
    "    b='attribute of parent B'\n",
    "class C(B):\n",
    "    c='attribute of Child C'\n",
    "    \n",
    "obj=C()\n",
    "print(obj.a)\n",
    "print(obj.b)\n",
    "print(obj.c)"
   ]
  },
  {
   "cell_type": "code",
   "execution_count": 8,
   "id": "6fb8c40c",
   "metadata": {},
   "outputs": [
    {
     "name": "stdout",
     "output_type": "stream",
     "text": [
      "attribute of parent A\n",
      "attribute of parent A\n",
      "attribute of parent A\n"
     ]
    }
   ],
   "source": [
    "#hierarchical inheritence\n",
    "\n",
    "class A:\n",
    "    a='attribute of parent A'\n",
    "class B(A):\n",
    "    b='attribute of Child B'\n",
    "class C(A):\n",
    "    c='attribute of Child C'\n",
    "class D(A):\n",
    "    d='attribute of Child D'\n",
    "\n",
    "    \n",
    "obj_B=B()\n",
    "obj_C=C()\n",
    "obj_D=D()\n",
    "\n",
    "print(obj_B.a)\n",
    "print(obj_C.a)\n",
    "print(obj_D.a)"
   ]
  },
  {
   "cell_type": "code",
   "execution_count": 9,
   "id": "b7422b57",
   "metadata": {
    "scrolled": true
   },
   "outputs": [
    {
     "name": "stdout",
     "output_type": "stream",
     "text": [
      "attribute of parent A\n",
      "attribute of parent B\n",
      "attribute of parent A\n",
      "attribute of Child C\n",
      "attribute of parent A\n",
      "attribute of parent B\n"
     ]
    }
   ],
   "source": [
    "#Hybrid inheritence\n",
    "class A:\n",
    "    a='attribute of parent A'\n",
    "class B:\n",
    "    b='attribute of parent B'\n",
    "class C(A,B):\n",
    "    c='attribute of Child C'\n",
    "class D(C):\n",
    "    d='attribute of Child D'\n",
    "class E(C):\n",
    "    e='attribute of Child D'\n",
    "obj_A=A()\n",
    "obj_B=B()\n",
    "obj_C=C()\n",
    "obj_D=D()\n",
    "obj_E=E()\n",
    "print(obj_A.a)\n",
    "print(obj_B.b)\n",
    "print(obj_C.a)\n",
    "print(obj_C.c)\n",
    "print(obj_D.a)\n",
    "print(obj_E.b)"
   ]
  },
  {
   "cell_type": "markdown",
   "id": "f22d3e4e",
   "metadata": {},
   "source": [
    "# Encapsulation"
   ]
  },
  {
   "cell_type": "code",
   "execution_count": 9,
   "id": "1fb341f2",
   "metadata": {},
   "outputs": [
    {
     "name": "stdout",
     "output_type": "stream",
     "text": [
      "protected member of a 2\n"
     ]
    }
   ],
   "source": [
    "class A:\n",
    "    def __init__(self):\n",
    "        self._a=2        #protected member\n",
    "        self.__b=3       #private member\n",
    "\n",
    "class B(A):\n",
    "    def __init__(self):\n",
    "        A.__init__(self)\n",
    "        print('protected member of a',self._a)\n",
    "        #print('private member of a',self.__b)\n",
    "v=B()"
   ]
  },
  {
   "cell_type": "markdown",
   "id": "d8820b10",
   "metadata": {},
   "source": [
    "# Polymorphism"
   ]
  },
  {
   "cell_type": "code",
   "execution_count": 11,
   "id": "9e48aeeb",
   "metadata": {},
   "outputs": [
    {
     "name": "stdout",
     "output_type": "stream",
     "text": [
      "vanakkam!\n",
      "Namashkaram!\n"
     ]
    }
   ],
   "source": [
    "class malayalam:\n",
    "    def wish(self):\n",
    "        print('Namashkaram!')\n",
    "        \n",
    "class tamil:\n",
    "    def wish(self):\n",
    "        print('vanakkam!')\n",
    "        \n",
    "def person(lang):\n",
    "    lang.wish()\n",
    "\n",
    "vijay=tamil()\n",
    "dq=malayalam()        \n",
    "        \n",
    "person(vijay)\n",
    "person(dq)"
   ]
  },
  {
   "cell_type": "markdown",
   "id": "f9ebb800",
   "metadata": {},
   "source": [
    "# Data Abstraction"
   ]
  },
  {
   "cell_type": "raw",
   "id": "86dba753",
   "metadata": {},
   "source": [
    "Hiding the Unnecessary data and focusing only on the necessary data is called as data abstraction\n",
    "The definition of ADT(Abstract Data Type) only mentions what operations are to be performed but not how these operations will be implemented"
   ]
  },
  {
   "cell_type": "markdown",
   "id": "4e7f908f",
   "metadata": {},
   "source": [
    "# Function Overriding"
   ]
  },
  {
   "cell_type": "code",
   "execution_count": 12,
   "id": "e1457a64",
   "metadata": {},
   "outputs": [
    {
     "name": "stdout",
     "output_type": "stream",
     "text": [
      "Second method: 104\n"
     ]
    },
    {
     "ename": "TypeError",
     "evalue": "sum() missing 1 required positional argument: 'c'",
     "output_type": "error",
     "traceback": [
      "\u001b[1;31m---------------------------------------------------------------------------\u001b[0m",
      "\u001b[1;31mTypeError\u001b[0m                                 Traceback (most recent call last)",
      "\u001b[1;32m~\\AppData\\Local\\Temp\\ipykernel_10172\\2663502293.py\u001b[0m in \u001b[0;36m<module>\u001b[1;34m\u001b[0m\n\u001b[0;32m      7\u001b[0m \u001b[0mobj\u001b[0m\u001b[1;33m.\u001b[0m\u001b[0msum\u001b[0m\u001b[1;33m(\u001b[0m\u001b[1;36m19\u001b[0m\u001b[1;33m,\u001b[0m \u001b[1;36m8\u001b[0m\u001b[1;33m,\u001b[0m \u001b[1;36m77\u001b[0m\u001b[1;33m)\u001b[0m     \u001b[1;31m#correct output\u001b[0m\u001b[1;33m\u001b[0m\u001b[1;33m\u001b[0m\u001b[0m\n\u001b[0;32m      8\u001b[0m \u001b[1;33m\u001b[0m\u001b[0m\n\u001b[1;32m----> 9\u001b[1;33m \u001b[0mobj\u001b[0m\u001b[1;33m.\u001b[0m\u001b[0msum\u001b[0m\u001b[1;33m(\u001b[0m\u001b[1;36m18\u001b[0m\u001b[1;33m,\u001b[0m \u001b[1;36m20\u001b[0m\u001b[1;33m)\u001b[0m        \u001b[1;31m#throws error\u001b[0m\u001b[1;33m\u001b[0m\u001b[1;33m\u001b[0m\u001b[0m\n\u001b[0m",
      "\u001b[1;31mTypeError\u001b[0m: sum() missing 1 required positional argument: 'c'"
     ]
    }
   ],
   "source": [
    "class sumClass:\n",
    "    def sum(self, a, b):\n",
    "        print(\"First method:\",a+b)\n",
    "    def sum(self, a, b, c):\n",
    "        print(\"Second method:\", a + b + c)\n",
    "obj=sumClass()\n",
    "obj.sum(19, 8, 77)     #correct output\n",
    "\n",
    "obj.sum(18, 20)        #throws error"
   ]
  }
 ],
 "metadata": {
  "kernelspec": {
   "display_name": "Python 3 (ipykernel)",
   "language": "python",
   "name": "python3"
  },
  "language_info": {
   "codemirror_mode": {
    "name": "ipython",
    "version": 3
   },
   "file_extension": ".py",
   "mimetype": "text/x-python",
   "name": "python",
   "nbconvert_exporter": "python",
   "pygments_lexer": "ipython3",
   "version": "3.9.13"
  }
 },
 "nbformat": 4,
 "nbformat_minor": 5
}
