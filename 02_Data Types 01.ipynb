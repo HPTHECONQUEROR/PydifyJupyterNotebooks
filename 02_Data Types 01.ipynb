{
 "cells": [
  {
   "cell_type": "markdown",
   "id": "e22a04b2",
   "metadata": {},
   "source": [
    "# Data "
   ]
  },
  {
   "cell_type": "raw",
   "id": "755daf92",
   "metadata": {},
   "source": [
    "1. Data is a piece of information\n",
    "2. Every data has its own type \n",
    " i.   Numeric (int, float, complex)\n",
    " ii.  Text (str)\n",
    " iii. Boolean (bool)\n",
    " iv.  Binary (bytes, bytearray, memoryview)"
   ]
  },
  {
   "cell_type": "markdown",
   "id": "8920692c",
   "metadata": {},
   "source": [
    "# I. Numeric Data types"
   ]
  },
  {
   "cell_type": "raw",
   "id": "a931d0bc",
   "metadata": {},
   "source": [
    "Its just consists of numbers...\n",
    "some of them are \n",
    "   1. Integer (int) - 1, 2, 3\n",
    "   2. Floating point (float) - 1.1, 2.4 ,300.213\n",
    "   3. complex (complex) -  2j, 1+7j "
   ]
  },
  {
   "cell_type": "markdown",
   "id": "067736bf",
   "metadata": {},
   "source": [
    "# 1. Integer"
   ]
  },
  {
   "cell_type": "code",
   "execution_count": 3,
   "id": "90dddca2",
   "metadata": {},
   "outputs": [
    {
     "name": "stdout",
     "output_type": "stream",
     "text": [
      "<class 'int'>\n"
     ]
    }
   ],
   "source": [
    "x = 21\n",
    "print(type(x))"
   ]
  },
  {
   "cell_type": "markdown",
   "id": "cb7715b4",
   "metadata": {},
   "source": [
    "# 2. Floating point"
   ]
  },
  {
   "cell_type": "code",
   "execution_count": 4,
   "id": "9aeb79c8",
   "metadata": {},
   "outputs": [
    {
     "name": "stdout",
     "output_type": "stream",
     "text": [
      "<class 'float'>\n",
      "42.0\n"
     ]
    }
   ],
   "source": [
    "y = 21.0\n",
    "print(type(y))"
   ]
  },
  {
   "cell_type": "markdown",
   "id": "78940311",
   "metadata": {},
   "source": [
    "#  3. Complex data type"
   ]
  },
  {
   "cell_type": "code",
   "execution_count": 10,
   "id": "2f4734f4",
   "metadata": {
    "scrolled": true
   },
   "outputs": [
    {
     "name": "stdout",
     "output_type": "stream",
     "text": [
      "2j\n"
     ]
    }
   ],
   "source": [
    "c = 2j\n",
    "print(type(c))"
   ]
  },
  {
   "cell_type": "code",
   "execution_count": 6,
   "id": "1d2b2b19",
   "metadata": {},
   "outputs": [
    {
     "name": "stdout",
     "output_type": "stream",
     "text": [
      "<class 'complex'>\n"
     ]
    }
   ],
   "source": [
    "c = 1+7j\n",
    "print(type(c))"
   ]
  },
  {
   "cell_type": "code",
   "execution_count": 12,
   "id": "84791c7d",
   "metadata": {
    "scrolled": true
   },
   "outputs": [
    {
     "name": "stdout",
     "output_type": "stream",
     "text": [
      "(2+3j)\n",
      "(1+2j)\n",
      "(3+5j)\n",
      "3.0\n",
      "5.0\n"
     ]
    }
   ],
   "source": [
    "c1 = complex(2, 3)\n",
    "print(c1)\n",
    "\n",
    "c2 = 1 + 2j\n",
    "print(c2)\n",
    "\n",
    "c3 = c1 + c2\n",
    "print(c3)\n",
    "\n",
    "print(c3.real)\n",
    "print(c3.imag)\n"
   ]
  },
  {
   "cell_type": "raw",
   "id": "7860b783",
   "metadata": {},
   "source": [
    "# Its used wherever we need imaginary numbers like Quantum computing,  Electrical engineering etc.."
   ]
  },
  {
   "cell_type": "markdown",
   "id": "9e33ae50",
   "metadata": {},
   "source": [
    "# II. Text"
   ]
  },
  {
   "cell_type": "markdown",
   "id": "b238bb1a",
   "metadata": {},
   "source": [
    "# 1. String"
   ]
  },
  {
   "cell_type": "raw",
   "id": "35081349",
   "metadata": {},
   "source": [
    "The only text Dtype in python is string (str)\n",
    "Its immutable which means its values cannot be changes after created"
   ]
  },
  {
   "cell_type": "code",
   "execution_count": 1,
   "id": "565e6e49",
   "metadata": {
    "scrolled": true
   },
   "outputs": [
    {
     "name": "stdout",
     "output_type": "stream",
     "text": [
      "<class 'str'>\n",
      "<class 'str'>\n"
     ]
    },
    {
     "data": {
      "text/plain": [
       "'hello everyone this is legend!'"
      ]
     },
     "execution_count": 1,
     "metadata": {},
     "output_type": "execute_result"
    }
   ],
   "source": [
    "s = 'hello everyone this is legend!' \n",
    "c = 'h'\n",
    "print(type(s))\n",
    "print(type(c))"
   ]
  },
  {
   "cell_type": "raw",
   "id": "be6c5386",
   "metadata": {},
   "source": [
    "Some of the useful operations in string\n",
    "        1. Accessing every element using index - []\n",
    "        2. slicing - [::]\n",
    "        3. Concatenation -  +\n",
    "        4. repitition - *\n",
    "        5. split(), strip()\n",
    "        6. len()\n",
    "        7. upper(), lower()\n",
    "        8. find(), replace()\n",
    "        9. count()\n",
    "        10. formatting using f\n",
    "        11. Del()"
   ]
  },
  {
   "cell_type": "markdown",
   "id": "0245b04d",
   "metadata": {},
   "source": [
    "# Using index values"
   ]
  },
  {
   "cell_type": "code",
   "execution_count": 7,
   "id": "d3930645",
   "metadata": {},
   "outputs": [],
   "source": [
    "s = 'Paul walker walking in the streets!'\n",
    "#F   01234567891011.................."
   ]
  },
  {
   "cell_type": "code",
   "execution_count": 7,
   "id": "75b410eb",
   "metadata": {
    "scrolled": true
   },
   "outputs": [
    {
     "name": "stdout",
     "output_type": "stream",
     "text": [
      " \n",
      "s\n",
      "!\n"
     ]
    }
   ],
   "source": [
    "print(s[5])\n",
    "print(s[21])"
   ]
  },
  {
   "cell_type": "code",
   "execution_count": 9,
   "id": "f545b037",
   "metadata": {},
   "outputs": [],
   "source": [
    "s = 'Paul walker walking in the streets!'\n",
    "#R                         .....-4-3-2-1"
   ]
  },
  {
   "cell_type": "code",
   "execution_count": 10,
   "id": "5c03c3da",
   "metadata": {
    "scrolled": true
   },
   "outputs": [
    {
     "name": "stdout",
     "output_type": "stream",
     "text": [
      "!\n",
      "u\n"
     ]
    }
   ],
   "source": [
    "print(s[-1])\n",
    "print(s[-33])"
   ]
  },
  {
   "cell_type": "markdown",
   "id": "742735fd",
   "metadata": {},
   "source": [
    "# Slicing"
   ]
  },
  {
   "cell_type": "code",
   "execution_count": 26,
   "id": "6d6f0618",
   "metadata": {},
   "outputs": [],
   "source": [
    "s = 'Paul walker walking in the streets!'"
   ]
  },
  {
   "cell_type": "markdown",
   "id": "529e523f",
   "metadata": {},
   "source": [
    "Forward"
   ]
  },
  {
   "cell_type": "code",
   "execution_count": 11,
   "id": "6eaa8fb8",
   "metadata": {},
   "outputs": [
    {
     "name": "stdout",
     "output_type": "stream",
     "text": [
      " walker walking in the\n"
     ]
    }
   ],
   "source": [
    "print(s[4:25:1])"
   ]
  },
  {
   "cell_type": "code",
   "execution_count": 13,
   "id": "6b6b2e05",
   "metadata": {},
   "outputs": [
    {
     "name": "stdout",
     "output_type": "stream",
     "text": [
      " walker walking in the streets!\n"
     ]
    }
   ],
   "source": [
    "print(s[4::])"
   ]
  },
  {
   "cell_type": "code",
   "execution_count": 17,
   "id": "e2f3213d",
   "metadata": {},
   "outputs": [
    {
     "name": "stdout",
     "output_type": "stream",
     "text": [
      "Paul walker walking in the streets!\n"
     ]
    }
   ],
   "source": [
    "print(s[0:35:1])"
   ]
  },
  {
   "cell_type": "code",
   "execution_count": 15,
   "id": "022cc005",
   "metadata": {},
   "outputs": [
    {
     "name": "stdout",
     "output_type": "stream",
     "text": [
      "Pu akrwligi h\n"
     ]
    }
   ],
   "source": [
    "print(s[:25:2])"
   ]
  },
  {
   "cell_type": "code",
   "execution_count": 16,
   "id": "aa934567",
   "metadata": {
    "scrolled": true
   },
   "outputs": [
    {
     "name": "stdout",
     "output_type": "stream",
     "text": [
      "Pu akrwligi h tet!\n"
     ]
    }
   ],
   "source": [
    "print(s[::2])"
   ]
  },
  {
   "cell_type": "raw",
   "id": "b09a202a",
   "metadata": {},
   "source": [
    "Reverse"
   ]
  },
  {
   "cell_type": "code",
   "execution_count": 20,
   "id": "27676366",
   "metadata": {},
   "outputs": [
    {
     "name": "stdout",
     "output_type": "stream",
     "text": [
      "!tet h igil\n"
     ]
    }
   ],
   "source": [
    "print(s[-1:-23:-1]) #(for reverse slicing the increment value must be there wih neg sign)"
   ]
  },
  {
   "cell_type": "code",
   "execution_count": 2,
   "id": "868a3a88",
   "metadata": {},
   "outputs": [
    {
     "name": "stdout",
     "output_type": "stream",
     "text": [
      "DLROW OLLEH\n"
     ]
    }
   ],
   "source": [
    "a = 'HELLO WORLD'\n",
    "print(a[::-1])"
   ]
  },
  {
   "cell_type": "markdown",
   "id": "daf2ace8",
   "metadata": {},
   "source": [
    "# Concatenation"
   ]
  },
  {
   "cell_type": "code",
   "execution_count": 30,
   "id": "46c30179",
   "metadata": {},
   "outputs": [
    {
     "name": "stdout",
     "output_type": "stream",
     "text": [
      "HIPILLOW\n"
     ]
    }
   ],
   "source": [
    "st1 = 'HI'\n",
    "st2 = 'PILLOW'\n",
    "st_new = st1+st2\n",
    "print(st_new)"
   ]
  },
  {
   "cell_type": "markdown",
   "id": "80a6b873",
   "metadata": {},
   "source": [
    "# Repetition"
   ]
  },
  {
   "cell_type": "code",
   "execution_count": 31,
   "id": "f3f552c9",
   "metadata": {},
   "outputs": [
    {
     "name": "stdout",
     "output_type": "stream",
     "text": [
      "HIHI\n",
      "HIPILLOWHIPILLOWHIPILLOW\n"
     ]
    }
   ],
   "source": [
    "print(st1*2)\n",
    "print(st_new*3)"
   ]
  },
  {
   "cell_type": "markdown",
   "id": "9f05a5c2",
   "metadata": {},
   "source": [
    "# split()"
   ]
  },
  {
   "cell_type": "code",
   "execution_count": 4,
   "id": "c1c5ba7f",
   "metadata": {},
   "outputs": [
    {
     "name": "stdout",
     "output_type": "stream",
     "text": [
      "['Professional', 'pythonists']\n",
      "<class 'list'>\n"
     ]
    }
   ],
   "source": [
    "s = 'Professional pythonists'\n",
    "n = s.split()\n",
    "print(n)\n",
    "print(type(n))"
   ]
  },
  {
   "cell_type": "markdown",
   "id": "cd901c02",
   "metadata": {},
   "source": [
    "# strip()"
   ]
  },
  {
   "cell_type": "code",
   "execution_count": 22,
   "id": "959283d4",
   "metadata": {
    "scrolled": true
   },
   "outputs": [
    {
     "name": "stdout",
     "output_type": "stream",
     "text": [
      "use of strip\n"
     ]
    }
   ],
   "source": [
    "s = ' use of strip    '\n",
    "a = s.strip()\n",
    "print(a)"
   ]
  },
  {
   "cell_type": "markdown",
   "id": "c47318be",
   "metadata": {},
   "source": [
    "# len()"
   ]
  },
  {
   "cell_type": "code",
   "execution_count": 23,
   "id": "8d54eb32",
   "metadata": {},
   "outputs": [
    {
     "name": "stdout",
     "output_type": "stream",
     "text": [
      "18\n"
     ]
    }
   ],
   "source": [
    "a = 'printing something'\n",
    "size_of_a = len(a)\n",
    "print(size_of_a)"
   ]
  },
  {
   "cell_type": "markdown",
   "id": "9a996897",
   "metadata": {},
   "source": [
    "# upper()"
   ]
  },
  {
   "cell_type": "code",
   "execution_count": 24,
   "id": "16c4534b",
   "metadata": {},
   "outputs": [
    {
     "name": "stdout",
     "output_type": "stream",
     "text": [
      "THIS TEXT IS LOWER\n"
     ]
    }
   ],
   "source": [
    "a = 'this text is lower'\n",
    "a_upp = a.upper()\n",
    "print(a_upp)"
   ]
  },
  {
   "cell_type": "markdown",
   "id": "74c967a4",
   "metadata": {},
   "source": [
    "# lower()"
   ]
  },
  {
   "cell_type": "code",
   "execution_count": 25,
   "id": "d64e89bb",
   "metadata": {},
   "outputs": [
    {
     "name": "stdout",
     "output_type": "stream",
     "text": [
      "this text is upper but its not\n"
     ]
    }
   ],
   "source": [
    "a = 'THIS TEXT IS UPPER but its not'\n",
    "a_low = a.lower()\n",
    "print(a_low)"
   ]
  },
  {
   "cell_type": "markdown",
   "id": "89c12054",
   "metadata": {},
   "source": [
    "# find()"
   ]
  },
  {
   "cell_type": "code",
   "execution_count": 6,
   "id": "f5d80bb0",
   "metadata": {},
   "outputs": [
    {
     "name": "stdout",
     "output_type": "stream",
     "text": [
      "1\n"
     ]
    }
   ],
   "source": [
    "something  = 'hello buddies'\n",
    "print(something.find('e'))"
   ]
  },
  {
   "cell_type": "markdown",
   "id": "68f75925",
   "metadata": {},
   "source": [
    "# replace()"
   ]
  },
  {
   "cell_type": "code",
   "execution_count": 39,
   "id": "30528a13",
   "metadata": {},
   "outputs": [
    {
     "name": "stdout",
     "output_type": "stream",
     "text": [
      "hello buaaies\n"
     ]
    }
   ],
   "source": [
    "something  = 'hello buddies'\n",
    "print(something.replace('d','a'))"
   ]
  },
  {
   "cell_type": "markdown",
   "id": "b273e495",
   "metadata": {},
   "source": [
    "# Count()"
   ]
  },
  {
   "cell_type": "code",
   "execution_count": 8,
   "id": "444d9420",
   "metadata": {},
   "outputs": [
    {
     "name": "stdout",
     "output_type": "stream",
     "text": [
      "3\n"
     ]
    }
   ],
   "source": [
    "dinner = 'very nice, very good'\n",
    "print(dinner.count('e')) #since 'e' repeated two times"
   ]
  },
  {
   "cell_type": "markdown",
   "id": "4d75142f",
   "metadata": {},
   "source": [
    "# del()"
   ]
  },
  {
   "cell_type": "code",
   "execution_count": 29,
   "id": "4a7e0e37",
   "metadata": {},
   "outputs": [
    {
     "name": "stdout",
     "output_type": "stream",
     "text": [
      "simple\n"
     ]
    }
   ],
   "source": [
    "a = 'simple'\n",
    "print(a)"
   ]
  },
  {
   "cell_type": "code",
   "execution_count": 30,
   "id": "fd666121",
   "metadata": {},
   "outputs": [],
   "source": [
    "del a  #del(a)"
   ]
  },
  {
   "cell_type": "code",
   "execution_count": 31,
   "id": "23852bb4",
   "metadata": {},
   "outputs": [
    {
     "ename": "NameError",
     "evalue": "name 'a' is not defined",
     "output_type": "error",
     "traceback": [
      "\u001b[1;31m---------------------------------------------------------------------------\u001b[0m",
      "\u001b[1;31mNameError\u001b[0m                                 Traceback (most recent call last)",
      "\u001b[1;32m~\\AppData\\Local\\Temp\\ipykernel_14480\\1189138062.py\u001b[0m in \u001b[0;36m<module>\u001b[1;34m\u001b[0m\n\u001b[1;32m----> 1\u001b[1;33m \u001b[0mprint\u001b[0m\u001b[1;33m(\u001b[0m\u001b[0ma\u001b[0m\u001b[1;33m)\u001b[0m\u001b[1;33m\u001b[0m\u001b[1;33m\u001b[0m\u001b[0m\n\u001b[0m",
      "\u001b[1;31mNameError\u001b[0m: name 'a' is not defined"
     ]
    }
   ],
   "source": [
    "print(a)"
   ]
  },
  {
   "cell_type": "markdown",
   "id": "fabb831a",
   "metadata": {},
   "source": [
    "# Formatting using f"
   ]
  },
  {
   "cell_type": "code",
   "execution_count": 47,
   "id": "69a433f0",
   "metadata": {},
   "outputs": [
    {
     "name": "stdout",
     "output_type": "stream",
     "text": [
      "Hi guys I am  sendhil kumar I am stepping into 98\n"
     ]
    }
   ],
   "source": [
    "name  = 'sendhil kumar'\n",
    "age = 98\n",
    "print('Hi guys I am ',name,'I am stepping into',age)"
   ]
  },
  {
   "cell_type": "code",
   "execution_count": 48,
   "id": "eecfe9a6",
   "metadata": {},
   "outputs": [
    {
     "name": "stdout",
     "output_type": "stream",
     "text": [
      "Hi guys I am sendhil kumar I am stepping into98\n"
     ]
    }
   ],
   "source": [
    "print(f'Hi guys I am {name} I am stepping into {age}')"
   ]
  },
  {
   "cell_type": "code",
   "execution_count": 10,
   "id": "c7b48ee7",
   "metadata": {},
   "outputs": [
    {
     "name": "stdout",
     "output_type": "stream",
     "text": [
      "Enter time in 12-hour format (hh:mm:ss AM/PM): 12:24:35 AM\n",
      "Time in 24-hour format: 0:24:35\n"
     ]
    }
   ],
   "source": [
    "time_str = input(\"Enter time in 12-hour format (hh:mm:ss AM/PM): \")\n",
    "\n",
    "hour, minute, second = [int(x) for x in time_str[:-3].split(\":\")]\n",
    "if \"PM\" in time_str.upper() and hour != 12:\n",
    "    hour += 12\n",
    "elif \"AM\" in time_str.upper() and hour == 12:\n",
    "    hour = 0\n",
    "\n",
    "print(f\"Time in 24-hour format: {hour}:{minute}:{second}\")"
   ]
  },
  {
   "cell_type": "markdown",
   "id": "368236d8",
   "metadata": {},
   "source": [
    "# Boolean Data type"
   ]
  },
  {
   "cell_type": "raw",
   "id": "f130d86f",
   "metadata": {},
   "source": [
    "1. The boolean data type represents a value that can be either True or False.\n",
    "2. Boolean operations such as and, or, and not are used to perform logical operations on boolean values.\n",
    "3. They are used mainly on statements like if, while, and for loops to execute certain code blocks based on the truth value of a condition.\n",
    "4. bool() is used to create or convert other types into boolean"
   ]
  },
  {
   "cell_type": "code",
   "execution_count": 4,
   "id": "4dcda276",
   "metadata": {},
   "outputs": [
    {
     "name": "stdout",
     "output_type": "stream",
     "text": [
      "True\n",
      "False\n"
     ]
    }
   ],
   "source": [
    "x = True\n",
    "y = False\n",
    "\n",
    "print(x)  \n",
    "print(y)  "
   ]
  },
  {
   "cell_type": "code",
   "execution_count": 5,
   "id": "2ad92c68",
   "metadata": {},
   "outputs": [
    {
     "name": "stdout",
     "output_type": "stream",
     "text": [
      "False\n",
      "True\n",
      "False\n",
      "True\n",
      "True\n"
     ]
    }
   ],
   "source": [
    "a = True\n",
    "b = False\n",
    "c = True\n",
    "\n",
    "print(a and b) \n",
    "print(a or b)   \n",
    "print(not a)    \n",
    "print(not b)    \n",
    "print(a and c)  \n"
   ]
  },
  {
   "cell_type": "markdown",
   "id": "1b3e5144",
   "metadata": {},
   "source": [
    "# Binary Data types"
   ]
  },
  {
   "cell_type": "raw",
   "id": "d28e1ebd",
   "metadata": {},
   "source": [
    "1. Binary data types represent data in the form of (bits), which can have a value of either 0 or 1.\n",
    "2. bytes, bytearray, memoryview.\n",
    "3. we use this mostly with the Socket module\n",
    "4. used for various purpose like network protocols, file I/O, Encryting and hashing, Bit manipulation, hacking etc.."
   ]
  },
  {
   "cell_type": "markdown",
   "id": "3ab285e6",
   "metadata": {},
   "source": [
    "# Bytes"
   ]
  },
  {
   "cell_type": "raw",
   "id": "88c0f6c1",
   "metadata": {},
   "source": [
    "1. The bytes type is used to represent a sequence of bytes.\n",
    "2. It is an immutable sequence of integers, each of which represents a byte of data."
   ]
  },
  {
   "cell_type": "code",
   "execution_count": 21,
   "id": "7af5695a",
   "metadata": {},
   "outputs": [
    {
     "name": "stdout",
     "output_type": "stream",
     "text": [
      "Hello, world!\n"
     ]
    }
   ],
   "source": [
    "my_bytes = bytes([72, 101, 108, 108, 111, 44, 32, 119, 111, 114, 108, 100, 33])\n",
    "print(my_bytes.decode())"
   ]
  },
  {
   "cell_type": "code",
   "execution_count": 14,
   "id": "f6b3b19a",
   "metadata": {},
   "outputs": [
    {
     "name": "stdout",
     "output_type": "stream",
     "text": [
      "4\n"
     ]
    }
   ],
   "source": [
    "print(my_bytes.index(111))"
   ]
  },
  {
   "cell_type": "code",
   "execution_count": 15,
   "id": "5d3d5960",
   "metadata": {},
   "outputs": [
    {
     "name": "stdout",
     "output_type": "stream",
     "text": [
      "3\n"
     ]
    }
   ],
   "source": [
    "print(my_bytes.count(108))"
   ]
  },
  {
   "cell_type": "markdown",
   "id": "5a64043f",
   "metadata": {},
   "source": [
    "# Bytearray"
   ]
  },
  {
   "cell_type": "raw",
   "id": "47432bd0",
   "metadata": {},
   "source": [
    "1. The bytearray type is similar to the bytes type, but it is mutable.\n",
    "2. Bytearrays are often used to represent binary data that needs to be modified, such as image data or network packets."
   ]
  },
  {
   "cell_type": "code",
   "execution_count": 2,
   "id": "7c5e5cd0",
   "metadata": {},
   "outputs": [
    {
     "name": "stdout",
     "output_type": "stream",
     "text": [
      "Hello, world!\n"
     ]
    }
   ],
   "source": [
    "my_bytearray = bytearray(b'Hello, world!')\n",
    "print(my_bytearray.decode())"
   ]
  },
  {
   "cell_type": "code",
   "execution_count": 28,
   "id": "55ece1fa",
   "metadata": {},
   "outputs": [
    {
     "name": "stdout",
     "output_type": "stream",
     "text": [
      "4\n"
     ]
    }
   ],
   "source": [
    "print(my_bytearray.index(111)) "
   ]
  },
  {
   "cell_type": "code",
   "execution_count": 29,
   "id": "44202a7a",
   "metadata": {},
   "outputs": [
    {
     "name": "stdout",
     "output_type": "stream",
     "text": [
      "3\n"
     ]
    }
   ],
   "source": [
    "print(my_bytearray.count(108))"
   ]
  },
  {
   "cell_type": "markdown",
   "id": "bdc06248",
   "metadata": {},
   "source": [
    "# Memory view"
   ]
  },
  {
   "cell_type": "raw",
   "id": "9d9f91f3",
   "metadata": {},
   "source": [
    "1. The memoryview type provides a way to access the memory of an object without creating a copy of it. \n",
    "2. This can be useful when working with large amounts of binary data, such as audio or video files."
   ]
  },
  {
   "cell_type": "code",
   "execution_count": 23,
   "id": "b9ec3593",
   "metadata": {},
   "outputs": [],
   "source": [
    "data = bytearray([1, 2, 3, 4, 5])"
   ]
  },
  {
   "cell_type": "code",
   "execution_count": 26,
   "id": "9a2872be",
   "metadata": {},
   "outputs": [
    {
     "name": "stdout",
     "output_type": "stream",
     "text": [
      "1\n",
      "2\n",
      "3\n",
      "4\n",
      "5\n"
     ]
    }
   ],
   "source": [
    "view = memoryview(data)\n",
    "for i in view:\n",
    "    print(i)"
   ]
  },
  {
   "cell_type": "code",
   "execution_count": 48,
   "id": "520b183f",
   "metadata": {},
   "outputs": [],
   "source": [
    "view[0] = 10\n",
    "view[1] = 20\n",
    "view[2] = 30"
   ]
  },
  {
   "cell_type": "code",
   "execution_count": 49,
   "id": "7d110b8c",
   "metadata": {},
   "outputs": [
    {
     "name": "stdout",
     "output_type": "stream",
     "text": [
      "10\n",
      "20\n",
      "30\n",
      "4\n",
      "5\n"
     ]
    }
   ],
   "source": [
    "for i in view:\n",
    "    print(i)"
   ]
  }
 ],
 "metadata": {
  "kernelspec": {
   "display_name": "Python 3 (ipykernel)",
   "language": "python",
   "name": "python3"
  },
  "language_info": {
   "codemirror_mode": {
    "name": "ipython",
    "version": 3
   },
   "file_extension": ".py",
   "mimetype": "text/x-python",
   "name": "python",
   "nbconvert_exporter": "python",
   "pygments_lexer": "ipython3",
   "version": "3.9.13"
  }
 },
 "nbformat": 4,
 "nbformat_minor": 5
}
