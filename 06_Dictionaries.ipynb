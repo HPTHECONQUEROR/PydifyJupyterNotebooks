{
 "cells": [
  {
   "cell_type": "markdown",
   "id": "30d41ffb",
   "metadata": {},
   "source": [
    "# Dictionary"
   ]
  },
  {
   "cell_type": "raw",
   "id": "b9d367f9",
   "metadata": {},
   "source": [
    "1. Dictionaries are key value pairs\n",
    "2. Dictionaries are mutable\n",
    "3. ex {'a':12}"
   ]
  },
  {
   "cell_type": "code",
   "execution_count": 5,
   "id": "78c39763",
   "metadata": {
    "scrolled": false
   },
   "outputs": [
    {
     "data": {
      "text/plain": [
       "{'name': 'balu', 'age': 17, 'class': 12, 12: 'age'}"
      ]
     },
     "execution_count": 5,
     "metadata": {},
     "output_type": "execute_result"
    }
   ],
   "source": [
    "student1 = {\n",
    "    'name':'balu',\n",
    "    'age':17,\n",
    "    'class':12,\n",
    "}\n",
    "student1"
   ]
  },
  {
   "cell_type": "code",
   "execution_count": 9,
   "id": "527d9597",
   "metadata": {},
   "outputs": [
    {
     "data": {
      "text/plain": [
       "'balu'"
      ]
     },
     "execution_count": 9,
     "metadata": {},
     "output_type": "execute_result"
    }
   ],
   "source": [
    "student1['name']"
   ]
  },
  {
   "cell_type": "markdown",
   "id": "c349c48f",
   "metadata": {},
   "source": [
    "# Accessing the Values of dictionary using keys"
   ]
  },
  {
   "cell_type": "code",
   "execution_count": 2,
   "id": "b028b5ed",
   "metadata": {},
   "outputs": [
    {
     "name": "stdout",
     "output_type": "stream",
     "text": [
      "22\n"
     ]
    }
   ],
   "source": [
    "student = {\n",
    "    'muthu' : 21,\n",
    "    'karuppu': 22,\n",
    "    'muni' : 23\n",
    "}\n",
    "print(student['karuppu'])"
   ]
  },
  {
   "cell_type": "code",
   "execution_count": 3,
   "id": "a57c88c3",
   "metadata": {},
   "outputs": [
    {
     "data": {
      "text/plain": [
       "{'muthu': 21, 'karuppu': 22, 'muni': 255}"
      ]
     },
     "execution_count": 3,
     "metadata": {},
     "output_type": "execute_result"
    }
   ],
   "source": [
    "student['muni']=255\n",
    "student"
   ]
  },
  {
   "cell_type": "markdown",
   "id": "d50f99e2",
   "metadata": {},
   "source": [
    "# Using the del function for deleting a dictionary"
   ]
  },
  {
   "cell_type": "code",
   "execution_count": 4,
   "id": "73bab0cb",
   "metadata": {},
   "outputs": [
    {
     "data": {
      "text/plain": [
       "{'karuppu': 22, 'muni': 255}"
      ]
     },
     "execution_count": 4,
     "metadata": {},
     "output_type": "execute_result"
    }
   ],
   "source": [
    "del(student['muthu'])\n",
    "student"
   ]
  },
  {
   "cell_type": "code",
   "execution_count": 6,
   "id": "e58ae074",
   "metadata": {
    "scrolled": true
   },
   "outputs": [
    {
     "ename": "NameError",
     "evalue": "name 'student' is not defined",
     "output_type": "error",
     "traceback": [
      "\u001b[1;31m---------------------------------------------------------------------------\u001b[0m",
      "\u001b[1;31mNameError\u001b[0m                                 Traceback (most recent call last)",
      "\u001b[1;32m~\\AppData\\Local\\Temp\\ipykernel_13324\\1237834927.py\u001b[0m in \u001b[0;36m<module>\u001b[1;34m\u001b[0m\n\u001b[0;32m      1\u001b[0m \u001b[1;32mdel\u001b[0m \u001b[0mstudent\u001b[0m\u001b[1;33m\u001b[0m\u001b[1;33m\u001b[0m\u001b[0m\n\u001b[1;32m----> 2\u001b[1;33m \u001b[0mstudent\u001b[0m\u001b[1;33m\u001b[0m\u001b[1;33m\u001b[0m\u001b[0m\n\u001b[0m",
      "\u001b[1;31mNameError\u001b[0m: name 'student' is not defined"
     ]
    }
   ],
   "source": [
    "del student\n",
    "student"
   ]
  },
  {
   "cell_type": "markdown",
   "id": "759dd80b",
   "metadata": {},
   "source": [
    "# Using some Objects in dictionary"
   ]
  },
  {
   "cell_type": "code",
   "execution_count": 15,
   "id": "cca8ad85",
   "metadata": {
    "scrolled": false
   },
   "outputs": [
    {
     "name": "stdout",
     "output_type": "stream",
     "text": [
      "23\n"
     ]
    },
    {
     "data": {
      "text/plain": [
       "{'muthu': 21, 'karuppu': 22}"
      ]
     },
     "execution_count": 15,
     "metadata": {},
     "output_type": "execute_result"
    }
   ],
   "source": [
    "di = {'muthu' : 21,\n",
    "    'karuppu': 22,\n",
    "    'muni' : 23,\n",
    "     }\n",
    "print(di.pop('muni'))\n",
    "di"
   ]
  },
  {
   "cell_type": "code",
   "execution_count": 24,
   "id": "a50f282e",
   "metadata": {},
   "outputs": [
    {
     "name": "stdout",
     "output_type": "stream",
     "text": [
      "[21, 22, 23]\n"
     ]
    }
   ],
   "source": [
    "print(sorted(di.values()))"
   ]
  },
  {
   "cell_type": "code",
   "execution_count": null,
   "id": "2a0f52a1",
   "metadata": {},
   "outputs": [],
   "source": []
  },
  {
   "cell_type": "code",
   "execution_count": 18,
   "id": "4a473fb1",
   "metadata": {
    "scrolled": false
   },
   "outputs": [
    {
     "data": {
      "text/plain": [
       "['karuppu', 'muni', 'muthu']"
      ]
     },
     "execution_count": 18,
     "metadata": {},
     "output_type": "execute_result"
    }
   ],
   "source": [
    "di = {'muthu' : 21,\n",
    "    'karuppu': 22,\n",
    "      'muni' : 23}\n",
    "a=sorted(di.keys())\n",
    "a"
   ]
  },
  {
   "cell_type": "code",
   "execution_count": 25,
   "id": "c3392aa8",
   "metadata": {
    "scrolled": true
   },
   "outputs": [
    {
     "data": {
      "text/plain": [
       "[21, 22, 23]"
      ]
     },
     "execution_count": 25,
     "metadata": {},
     "output_type": "execute_result"
    }
   ],
   "source": [
    "di.values()\n",
    "b=sorted(di.values())\n",
    "b"
   ]
  },
  {
   "cell_type": "code",
   "execution_count": 38,
   "id": "f796adcd",
   "metadata": {
    "scrolled": true
   },
   "outputs": [
    {
     "name": "stdout",
     "output_type": "stream",
     "text": [
      "muthu\n",
      "karuppu\n",
      "muni\n"
     ]
    }
   ],
   "source": [
    "for i in di.keys():\n",
    "    print(i)"
   ]
  },
  {
   "cell_type": "code",
   "execution_count": 11,
   "id": "9f4f4367",
   "metadata": {
    "scrolled": false
   },
   "outputs": [
    {
     "name": "stdout",
     "output_type": "stream",
     "text": [
      "52\n",
      "12\n",
      "24\n"
     ]
    }
   ],
   "source": [
    "for i in di.values():\n",
    "    print(i)"
   ]
  },
  {
   "cell_type": "code",
   "execution_count": 12,
   "id": "39af5bd9",
   "metadata": {},
   "outputs": [
    {
     "name": "stdout",
     "output_type": "stream",
     "text": [
      "muthu\n",
      "karuppu\n",
      "muni\n"
     ]
    }
   ],
   "source": [
    "for i in di:\n",
    "    print(i)"
   ]
  },
  {
   "cell_type": "code",
   "execution_count": 13,
   "id": "5901a2d5",
   "metadata": {},
   "outputs": [
    {
     "data": {
      "text/plain": [
       "3"
      ]
     },
     "execution_count": 13,
     "metadata": {},
     "output_type": "execute_result"
    }
   ],
   "source": [
    "len(di)"
   ]
  },
  {
   "cell_type": "code",
   "execution_count": 14,
   "id": "0d399c6b",
   "metadata": {},
   "outputs": [
    {
     "data": {
      "text/plain": [
       "\"{'muthu': 52, 'karuppu': 12, 'muni': 24}\""
      ]
     },
     "execution_count": 14,
     "metadata": {},
     "output_type": "execute_result"
    }
   ],
   "source": [
    "str(di)"
   ]
  },
  {
   "cell_type": "code",
   "execution_count": 15,
   "id": "2a1871b8",
   "metadata": {
    "scrolled": true
   },
   "outputs": [
    {
     "data": {
      "text/plain": [
       "['muthu', 'karuppu', 'muni']"
      ]
     },
     "execution_count": 15,
     "metadata": {},
     "output_type": "execute_result"
    }
   ],
   "source": [
    "list(di)"
   ]
  },
  {
   "cell_type": "code",
   "execution_count": 16,
   "id": "fef65b3c",
   "metadata": {},
   "outputs": [
    {
     "data": {
      "text/plain": [
       "{}"
      ]
     },
     "execution_count": 16,
     "metadata": {},
     "output_type": "execute_result"
    }
   ],
   "source": [
    "di.clear()\n",
    "di"
   ]
  },
  {
   "cell_type": "code",
   "execution_count": 27,
   "id": "9404e6d6",
   "metadata": {},
   "outputs": [
    {
     "data": {
      "text/plain": [
       "{'muthu': 52, 'karuppu': 12, 'muni': 24}"
      ]
     },
     "execution_count": 27,
     "metadata": {},
     "output_type": "execute_result"
    }
   ],
   "source": [
    "di = {'muthu' : 52,\n",
    "    'karuppu': 12,\n",
    "      'muni' : 24}\n",
    "l=di.copy()\n",
    "l"
   ]
  },
  {
   "cell_type": "code",
   "execution_count": 50,
   "id": "3125dd99",
   "metadata": {},
   "outputs": [
    {
     "data": {
      "text/plain": [
       "dict_items([('muthu', 52), ('karuppu', 12), ('muni', 24)])"
      ]
     },
     "execution_count": 50,
     "metadata": {},
     "output_type": "execute_result"
    }
   ],
   "source": [
    "di.items()"
   ]
  },
  {
   "cell_type": "code",
   "execution_count": 52,
   "id": "85a48304",
   "metadata": {},
   "outputs": [
    {
     "data": {
      "text/plain": [
       "{'hela': 34, 'america': 96, 'muthu': 52, 'karuppu': 12, 'muni': 24}"
      ]
     },
     "execution_count": 52,
     "metadata": {},
     "output_type": "execute_result"
    }
   ],
   "source": [
    "marvel={'hela':34,\n",
    "    'america':96}\n",
    "\n",
    "marvel.update(di)\n",
    "marvel"
   ]
  },
  {
   "cell_type": "code",
   "execution_count": 56,
   "id": "093d8906",
   "metadata": {},
   "outputs": [
    {
     "ename": "TypeError",
     "evalue": "unsupported operand type(s) for +: 'dict' and 'dict'",
     "output_type": "error",
     "traceback": [
      "\u001b[1;31m---------------------------------------------------------------------------\u001b[0m",
      "\u001b[1;31mTypeError\u001b[0m                                 Traceback (most recent call last)",
      "\u001b[1;32m~\\AppData\\Local\\Temp\\ipykernel_6752\\3351492183.py\u001b[0m in \u001b[0;36m<module>\u001b[1;34m\u001b[0m\n\u001b[0;32m      1\u001b[0m \u001b[0mnew_marvel\u001b[0m\u001b[1;33m=\u001b[0m\u001b[1;33m{\u001b[0m\u001b[1;34m'roger'\u001b[0m\u001b[1;33m:\u001b[0m\u001b[1;36m12\u001b[0m\u001b[1;33m}\u001b[0m\u001b[1;33m\u001b[0m\u001b[1;33m\u001b[0m\u001b[0m\n\u001b[1;32m----> 2\u001b[1;33m \u001b[0mnew_marvel\u001b[0m\u001b[1;33m+\u001b[0m\u001b[0mmarvel\u001b[0m\u001b[1;33m\u001b[0m\u001b[1;33m\u001b[0m\u001b[0m\n\u001b[0m\u001b[0;32m      3\u001b[0m \u001b[0mnew_marvel\u001b[0m\u001b[1;33m\u001b[0m\u001b[1;33m\u001b[0m\u001b[0m\n",
      "\u001b[1;31mTypeError\u001b[0m: unsupported operand type(s) for +: 'dict' and 'dict'"
     ]
    }
   ],
   "source": [
    "new_marvel={'roger':12}\n",
    "new_marvel+marvel\n",
    "new_marvel"
   ]
  },
  {
   "cell_type": "code",
   "execution_count": 61,
   "id": "a8d03580",
   "metadata": {},
   "outputs": [
    {
     "data": {
      "text/plain": [
       "False"
      ]
     },
     "execution_count": 61,
     "metadata": {},
     "output_type": "execute_result"
    }
   ],
   "source": [
    "34 in marvel"
   ]
  },
  {
   "cell_type": "code",
   "execution_count": 58,
   "id": "60f7cd93",
   "metadata": {},
   "outputs": [
    {
     "data": {
      "text/plain": [
       "True"
      ]
     },
     "execution_count": 58,
     "metadata": {},
     "output_type": "execute_result"
    }
   ],
   "source": [
    "'muni' not in marvel"
   ]
  },
  {
   "cell_type": "markdown",
   "id": "2f5b944e",
   "metadata": {},
   "source": [
    "# Set"
   ]
  },
  {
   "cell_type": "code",
   "execution_count": 40,
   "id": "1d3e38e0",
   "metadata": {},
   "outputs": [
    {
     "data": {
      "text/plain": [
       "{1, 2, 4, 'black', 'red'}"
      ]
     },
     "execution_count": 40,
     "metadata": {},
     "output_type": "execute_result"
    }
   ],
   "source": [
    "set1={4,2,2,1,'red','black','red'}\n",
    "set1"
   ]
  },
  {
   "cell_type": "code",
   "execution_count": 34,
   "id": "7380adeb",
   "metadata": {},
   "outputs": [
    {
     "data": {
      "text/plain": [
       "[1, 2, 3, 4]"
      ]
     },
     "execution_count": 34,
     "metadata": {},
     "output_type": "execute_result"
    }
   ],
   "source": [
    "a=[4, 3, 3,3, 2, 1,3,2]\n",
    "for i in a:\n",
    "    x=a.count(i)\n",
    "    if x>1:\n",
    "       for j in range(x-1):\n",
    "         a.remove(i)\n",
    "sorted(a)"
   ]
  },
  {
   "cell_type": "code",
   "execution_count": 43,
   "id": "40b217df",
   "metadata": {},
   "outputs": [
    {
     "name": "stdout",
     "output_type": "stream",
     "text": [
      "[1, 2, 3, 4]\n"
     ]
    }
   ],
   "source": [
    "a=[4, 3, 3,3, 2, 1,3,2]\n",
    "print(list(set(a)))"
   ]
  },
  {
   "cell_type": "code",
   "execution_count": 44,
   "id": "25825a9b",
   "metadata": {
    "scrolled": true
   },
   "outputs": [
    {
     "data": {
      "text/plain": [
       "set"
      ]
     },
     "execution_count": 44,
     "metadata": {},
     "output_type": "execute_result"
    }
   ],
   "source": [
    "type(set1)"
   ]
  },
  {
   "cell_type": "code",
   "execution_count": 25,
   "id": "a494f189",
   "metadata": {
    "scrolled": false
   },
   "outputs": [
    {
     "data": {
      "text/plain": [
       "dict"
      ]
     },
     "execution_count": 25,
     "metadata": {},
     "output_type": "execute_result"
    }
   ],
   "source": [
    "type(di)"
   ]
  },
  {
   "cell_type": "code",
   "execution_count": 26,
   "id": "346de7f9",
   "metadata": {},
   "outputs": [
    {
     "data": {
      "text/plain": [
       "5"
      ]
     },
     "execution_count": 26,
     "metadata": {},
     "output_type": "execute_result"
    }
   ],
   "source": [
    "len(set1)"
   ]
  },
  {
   "cell_type": "code",
   "execution_count": 41,
   "id": "30c6b0b5",
   "metadata": {},
   "outputs": [
    {
     "data": {
      "text/plain": [
       "{1, 1.5, 2, 4, 'black', 'red'}"
      ]
     },
     "execution_count": 41,
     "metadata": {},
     "output_type": "execute_result"
    }
   ],
   "source": [
    "set1.add(1.5)\n",
    "set1"
   ]
  },
  {
   "cell_type": "code",
   "execution_count": 45,
   "id": "3a3d6d46",
   "metadata": {},
   "outputs": [
    {
     "data": {
      "text/plain": [
       "{1, 1.5, 11, 2, 4, False, 'black', 'red', 'str'}"
      ]
     },
     "execution_count": 45,
     "metadata": {},
     "output_type": "execute_result"
    }
   ],
   "source": [
    "set2={False,1,11,'str'}\n",
    "set1.update(set2)\n",
    "set1"
   ]
  },
  {
   "cell_type": "code",
   "execution_count": 38,
   "id": "37f0e268",
   "metadata": {},
   "outputs": [
    {
     "data": {
      "text/plain": [
       "{11, False, 'str'}"
      ]
     },
     "execution_count": 38,
     "metadata": {},
     "output_type": "execute_result"
    }
   ],
   "source": [
    "set2.remove(1)\n",
    "set2"
   ]
  },
  {
   "cell_type": "code",
   "execution_count": 30,
   "id": "ff83d366",
   "metadata": {},
   "outputs": [
    {
     "data": {
      "text/plain": [
       "{11, 'str'}"
      ]
     },
     "execution_count": 30,
     "metadata": {},
     "output_type": "execute_result"
    }
   ],
   "source": [
    "set2.discard(False)\n",
    "set2"
   ]
  },
  {
   "cell_type": "code",
   "execution_count": 46,
   "id": "00cff5b8",
   "metadata": {},
   "outputs": [
    {
     "data": {
      "text/plain": [
       "{1, 4}"
      ]
     },
     "execution_count": 46,
     "metadata": {},
     "output_type": "execute_result"
    }
   ],
   "source": [
    "set1={1,2,3,4}\n",
    "set2={4,5,6,1}\n",
    "\n",
    "set1.intersection(set2)"
   ]
  },
  {
   "cell_type": "code",
   "execution_count": 3,
   "id": "e02e70a6",
   "metadata": {},
   "outputs": [
    {
     "data": {
      "text/plain": [
       "{1, 2, 3, 4, 5, 6}"
      ]
     },
     "execution_count": 3,
     "metadata": {},
     "output_type": "execute_result"
    }
   ],
   "source": [
    "set1.union(set2)"
   ]
  },
  {
   "cell_type": "code",
   "execution_count": 4,
   "id": "1a5e34c2",
   "metadata": {},
   "outputs": [
    {
     "data": {
      "text/plain": [
       "{1, 4}"
      ]
     },
     "execution_count": 4,
     "metadata": {},
     "output_type": "execute_result"
    }
   ],
   "source": [
    "set1.intersection(set2)"
   ]
  }
 ],
 "metadata": {
  "kernelspec": {
   "display_name": "Python 3 (ipykernel)",
   "language": "python",
   "name": "python3"
  },
  "language_info": {
   "codemirror_mode": {
    "name": "ipython",
    "version": 3
   },
   "file_extension": ".py",
   "mimetype": "text/x-python",
   "name": "python",
   "nbconvert_exporter": "python",
   "pygments_lexer": "ipython3",
   "version": "3.9.13"
  }
 },
 "nbformat": 4,
 "nbformat_minor": 5
}
