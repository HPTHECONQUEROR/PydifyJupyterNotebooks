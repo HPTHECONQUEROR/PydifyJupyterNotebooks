{
 "cells": [
  {
   "cell_type": "markdown",
   "id": "48e5a034",
   "metadata": {},
   "source": [
    "# Tuple"
   ]
  },
  {
   "cell_type": "raw",
   "id": "a2488fca",
   "metadata": {},
   "source": [
    "1.Tuples are immutable\n",
    "2.Its a sequence of values declared in between ()\n",
    "3.ex:(1,2,3)"
   ]
  },
  {
   "cell_type": "markdown",
   "id": "935f497e",
   "metadata": {},
   "source": [
    "# Singleton Tuple"
   ]
  },
  {
   "cell_type": "code",
   "execution_count": 4,
   "id": "76e8a944",
   "metadata": {
    "scrolled": true
   },
   "outputs": [
    {
     "data": {
      "text/plain": [
       "int"
      ]
     },
     "execution_count": 4,
     "metadata": {},
     "output_type": "execute_result"
    }
   ],
   "source": [
    "t=(1)\n",
    "type(t)"
   ]
  },
  {
   "cell_type": "code",
   "execution_count": 2,
   "id": "5217415f",
   "metadata": {},
   "outputs": [
    {
     "data": {
      "text/plain": [
       "tuple"
      ]
     },
     "execution_count": 2,
     "metadata": {},
     "output_type": "execute_result"
    }
   ],
   "source": [
    "t=(True,)\n",
    "type(t)"
   ]
  },
  {
   "cell_type": "code",
   "execution_count": 1,
   "id": "cdc72d62",
   "metadata": {},
   "outputs": [
    {
     "data": {
      "text/plain": [
       "tuple"
      ]
     },
     "execution_count": 1,
     "metadata": {},
     "output_type": "execute_result"
    }
   ],
   "source": [
    "u='end',\n",
    "type(u)"
   ]
  },
  {
   "cell_type": "code",
   "execution_count": 6,
   "id": "b39275c9",
   "metadata": {},
   "outputs": [
    {
     "data": {
      "text/plain": [
       "tuple"
      ]
     },
     "execution_count": 6,
     "metadata": {},
     "output_type": "execute_result"
    }
   ],
   "source": [
    "u=1,\n",
    "type(u)"
   ]
  },
  {
   "cell_type": "markdown",
   "id": "ab9eb5f2",
   "metadata": {},
   "source": [
    "# Accesing tuple elements"
   ]
  },
  {
   "cell_type": "code",
   "execution_count": 11,
   "id": "be4b7c32",
   "metadata": {},
   "outputs": [],
   "source": [
    "tup=(1,4,5,'w',2.3,True,6,8,21) \n",
    "#    0 1 2  3   4   5    6 7 8  "
   ]
  },
  {
   "cell_type": "code",
   "execution_count": 12,
   "id": "0f413f95",
   "metadata": {},
   "outputs": [
    {
     "data": {
      "text/plain": [
       "True"
      ]
     },
     "execution_count": 12,
     "metadata": {},
     "output_type": "execute_result"
    }
   ],
   "source": [
    "tup[5]"
   ]
  },
  {
   "cell_type": "code",
   "execution_count": 13,
   "id": "8ca50c38",
   "metadata": {},
   "outputs": [
    {
     "data": {
      "text/plain": [
       "(21, 8, 6, True, 2.3, 'w', 5, 4, 1)"
      ]
     },
     "execution_count": 13,
     "metadata": {},
     "output_type": "execute_result"
    }
   ],
   "source": [
    "tup[::-1]"
   ]
  },
  {
   "cell_type": "code",
   "execution_count": 14,
   "id": "b98ca6c0",
   "metadata": {},
   "outputs": [
    {
     "data": {
      "text/plain": [
       "21"
      ]
     },
     "execution_count": 14,
     "metadata": {},
     "output_type": "execute_result"
    }
   ],
   "source": [
    "tup[len(tup)-1]"
   ]
  },
  {
   "cell_type": "code",
   "execution_count": 15,
   "id": "12a8374d",
   "metadata": {
    "scrolled": true
   },
   "outputs": [
    {
     "ename": "TypeError",
     "evalue": "'tuple' object does not support item assignment",
     "output_type": "error",
     "traceback": [
      "\u001b[1;31m---------------------------------------------------------------------------\u001b[0m",
      "\u001b[1;31mTypeError\u001b[0m                                 Traceback (most recent call last)",
      "\u001b[1;32m~\\AppData\\Local\\Temp\\ipykernel_15820\\2352529081.py\u001b[0m in \u001b[0;36m<module>\u001b[1;34m\u001b[0m\n\u001b[1;32m----> 1\u001b[1;33m \u001b[0mtup\u001b[0m\u001b[1;33m[\u001b[0m\u001b[1;36m4\u001b[0m\u001b[1;33m]\u001b[0m\u001b[1;33m=\u001b[0m\u001b[1;36m5\u001b[0m\u001b[1;33m\u001b[0m\u001b[1;33m\u001b[0m\u001b[0m\n\u001b[0m",
      "\u001b[1;31mTypeError\u001b[0m: 'tuple' object does not support item assignment"
     ]
    }
   ],
   "source": [
    "tup[4]=5"
   ]
  },
  {
   "cell_type": "code",
   "execution_count": 16,
   "id": "3bb533a2",
   "metadata": {},
   "outputs": [
    {
     "data": {
      "text/plain": [
       "[3, 4, 9]"
      ]
     },
     "execution_count": 16,
     "metadata": {},
     "output_type": "execute_result"
    }
   ],
   "source": [
    "lis=[3,4,5]\n",
    "lis[2]=9\n",
    "lis     #but lists are mutable"
   ]
  },
  {
   "cell_type": "code",
   "execution_count": 67,
   "id": "53fceaba",
   "metadata": {},
   "outputs": [
    {
     "data": {
      "text/plain": [
       "(4, 1, 3, 9, 0, 2)"
      ]
     },
     "execution_count": 67,
     "metadata": {},
     "output_type": "execute_result"
    }
   ],
   "source": [
    "tup1=(4,1,3) \n",
    "tup2=(9,0,2) \n",
    "tup1+tup2    "
   ]
  },
  {
   "cell_type": "code",
   "execution_count": 6,
   "id": "5fab47e6",
   "metadata": {
    "scrolled": true
   },
   "outputs": [
    {
     "data": {
      "text/plain": [
       "(1, 2, 3, 1, 2, 3, 1, 2, 3)"
      ]
     },
     "execution_count": 6,
     "metadata": {},
     "output_type": "execute_result"
    }
   ],
   "source": [
    "tup1=(1,2,3)\n",
    "tup1*3"
   ]
  },
  {
   "cell_type": "markdown",
   "id": "aa832d59",
   "metadata": {},
   "source": [
    "# Using some functions in tuple"
   ]
  },
  {
   "cell_type": "code",
   "execution_count": 8,
   "id": "c62998b5",
   "metadata": {},
   "outputs": [],
   "source": [
    "tup=(1,4,5,2,3,44,0)"
   ]
  },
  {
   "cell_type": "code",
   "execution_count": 9,
   "id": "51d84581",
   "metadata": {},
   "outputs": [
    {
     "data": {
      "text/plain": [
       "7"
      ]
     },
     "execution_count": 9,
     "metadata": {},
     "output_type": "execute_result"
    }
   ],
   "source": [
    "len(tup)"
   ]
  },
  {
   "cell_type": "code",
   "execution_count": 10,
   "id": "be3edac8",
   "metadata": {},
   "outputs": [
    {
     "data": {
      "text/plain": [
       "44"
      ]
     },
     "execution_count": 10,
     "metadata": {},
     "output_type": "execute_result"
    }
   ],
   "source": [
    "max(tup)"
   ]
  },
  {
   "cell_type": "code",
   "execution_count": 11,
   "id": "2ceccab7",
   "metadata": {},
   "outputs": [
    {
     "data": {
      "text/plain": [
       "0"
      ]
     },
     "execution_count": 11,
     "metadata": {},
     "output_type": "execute_result"
    }
   ],
   "source": [
    "min(tup)"
   ]
  },
  {
   "cell_type": "code",
   "execution_count": 13,
   "id": "bec5b589",
   "metadata": {},
   "outputs": [
    {
     "data": {
      "text/plain": [
       "[0, 1, 2, 3, 4, 5, 44]"
      ]
     },
     "execution_count": 13,
     "metadata": {},
     "output_type": "execute_result"
    }
   ],
   "source": [
    "sorted(tup,reverse = True)"
   ]
  },
  {
   "cell_type": "markdown",
   "id": "d03794a9",
   "metadata": {},
   "source": [
    "# Converting tuple into a list"
   ]
  },
  {
   "cell_type": "code",
   "execution_count": 14,
   "id": "ec6fef5e",
   "metadata": {
    "scrolled": true
   },
   "outputs": [
    {
     "data": {
      "text/plain": [
       "list"
      ]
     },
     "execution_count": 14,
     "metadata": {},
     "output_type": "execute_result"
    }
   ],
   "source": [
    "tup=(1,2,4)\n",
    "newlis=list(tup)\n",
    "type(newlis)"
   ]
  },
  {
   "cell_type": "code",
   "execution_count": 48,
   "id": "8d895cbe",
   "metadata": {},
   "outputs": [
    {
     "data": {
      "text/plain": [
       "list"
      ]
     },
     "execution_count": 48,
     "metadata": {},
     "output_type": "execute_result"
    }
   ],
   "source": [
    "p=[1,2,3]\n",
    "type(p)"
   ]
  },
  {
   "cell_type": "code",
   "execution_count": 49,
   "id": "0b35bca6",
   "metadata": {
    "scrolled": true
   },
   "outputs": [
    {
     "data": {
      "text/plain": [
       "(1, 2, 3)"
      ]
     },
     "execution_count": 49,
     "metadata": {},
     "output_type": "execute_result"
    }
   ],
   "source": [
    "tul=tuple(p)\n",
    "tul"
   ]
  },
  {
   "cell_type": "markdown",
   "id": "192a85c1",
   "metadata": {},
   "source": [
    "# Packing and unpacking tuple"
   ]
  },
  {
   "cell_type": "code",
   "execution_count": 15,
   "id": "5c0ac790",
   "metadata": {
    "scrolled": true
   },
   "outputs": [
    {
     "name": "stdout",
     "output_type": "stream",
     "text": [
      "9\n"
     ]
    }
   ],
   "source": [
    "c=(1,2,3,9)\n",
    "b,m,d,h=c\n",
    "print(h)"
   ]
  },
  {
   "cell_type": "code",
   "execution_count": 24,
   "id": "946a267f",
   "metadata": {
    "scrolled": true
   },
   "outputs": [
    {
     "name": "stdout",
     "output_type": "stream",
     "text": [
      "<class 'int'> <class 'int'> <class 'int'>\n"
     ]
    }
   ],
   "source": [
    "a,b,c=(1,2,3)\n",
    "print(type(a),type(b),type(c))"
   ]
  },
  {
   "cell_type": "markdown",
   "id": "309ff410",
   "metadata": {},
   "source": [
    "# Nested tuples"
   ]
  },
  {
   "cell_type": "code",
   "execution_count": 17,
   "id": "09b4a0b5",
   "metadata": {
    "scrolled": true
   },
   "outputs": [
    {
     "name": "stdout",
     "output_type": "stream",
     "text": [
      "1 <class 'int'>\n",
      "2 <class 'int'>\n",
      "(4, 5, 6) <class 'tuple'>\n",
      "3.8 <class 'float'>\n"
     ]
    }
   ],
   "source": [
    "nes=(1,2,(4,5,6),3.8)\n",
    "for i in nes:\n",
    "    print(i,type(i))"
   ]
  },
  {
   "cell_type": "markdown",
   "id": "ee40e745",
   "metadata": {},
   "source": [
    "# Using count Object"
   ]
  },
  {
   "cell_type": "code",
   "execution_count": 60,
   "id": "38773173",
   "metadata": {},
   "outputs": [
    {
     "data": {
      "text/plain": [
       "3"
      ]
     },
     "execution_count": 60,
     "metadata": {},
     "output_type": "execute_result"
    }
   ],
   "source": [
    "a=(9,3,4,3,9,9)\n",
    "a.count(9)"
   ]
  },
  {
   "cell_type": "markdown",
   "id": "1f4f68ef",
   "metadata": {},
   "source": [
    "# Using index Object"
   ]
  },
  {
   "cell_type": "code",
   "execution_count": 27,
   "id": "4c3b23cd",
   "metadata": {},
   "outputs": [
    {
     "data": {
      "text/plain": [
       "1"
      ]
     },
     "execution_count": 27,
     "metadata": {},
     "output_type": "execute_result"
    }
   ],
   "source": [
    "a.index(3)"
   ]
  },
  {
   "cell_type": "markdown",
   "id": "38d6ace1",
   "metadata": {},
   "source": [
    "# Deleting a tuple"
   ]
  },
  {
   "cell_type": "code",
   "execution_count": 61,
   "id": "f378d77b",
   "metadata": {},
   "outputs": [
    {
     "ename": "NameError",
     "evalue": "name 'a' is not defined",
     "output_type": "error",
     "traceback": [
      "\u001b[1;31m---------------------------------------------------------------------------\u001b[0m",
      "\u001b[1;31mNameError\u001b[0m                                 Traceback (most recent call last)",
      "\u001b[1;32m~\\AppData\\Local\\Temp\\ipykernel_11612\\901519772.py\u001b[0m in \u001b[0;36m<module>\u001b[1;34m\u001b[0m\n\u001b[0;32m      1\u001b[0m \u001b[0ma\u001b[0m\u001b[1;33m=\u001b[0m\u001b[1;33m(\u001b[0m\u001b[1;36m1\u001b[0m\u001b[1;33m,\u001b[0m\u001b[1;36m2\u001b[0m\u001b[1;33m)\u001b[0m\u001b[1;33m\u001b[0m\u001b[1;33m\u001b[0m\u001b[0m\n\u001b[0;32m      2\u001b[0m \u001b[1;32mdel\u001b[0m\u001b[1;33m(\u001b[0m\u001b[0ma\u001b[0m\u001b[1;33m)\u001b[0m\u001b[1;33m\u001b[0m\u001b[1;33m\u001b[0m\u001b[0m\n\u001b[1;32m----> 3\u001b[1;33m \u001b[0ma\u001b[0m\u001b[1;33m\u001b[0m\u001b[1;33m\u001b[0m\u001b[0m\n\u001b[0m",
      "\u001b[1;31mNameError\u001b[0m: name 'a' is not defined"
     ]
    }
   ],
   "source": [
    "a=(1,2)\n",
    "del(a)\n",
    "a"
   ]
  },
  {
   "cell_type": "markdown",
   "id": "e411edd8",
   "metadata": {},
   "source": [
    "# Excersices on tuples"
   ]
  },
  {
   "cell_type": "raw",
   "id": "a709dc98",
   "metadata": {},
   "source": [
    "Create a tuple which has three elements in it and unpack it with three variables."
   ]
  },
  {
   "cell_type": "raw",
   "id": "9c83a8e2",
   "metadata": {},
   "source": [
    "Create a tuple containing the names of your five favorite fruits. Print the tuple, and then print the third fruit in the tuple."
   ]
  },
  {
   "cell_type": "raw",
   "id": "b3ec9cdd",
   "metadata": {},
   "source": [
    "Create a tuple containing the numbers from 1 to 10. Use a slice to print the first five numbers, and then use a slice to print the last five numbers."
   ]
  },
  {
   "cell_type": "raw",
   "id": "619b2e98",
   "metadata": {},
   "source": [
    "Create a tuple containing the names of five cities. Use the max() function to find the city with the longest name, and then use the min() function to find the city with the shortest name."
   ]
  }
 ],
 "metadata": {
  "kernelspec": {
   "display_name": "Python 3 (ipykernel)",
   "language": "python",
   "name": "python3"
  },
  "language_info": {
   "codemirror_mode": {
    "name": "ipython",
    "version": 3
   },
   "file_extension": ".py",
   "mimetype": "text/x-python",
   "name": "python",
   "nbconvert_exporter": "python",
   "pygments_lexer": "ipython3",
   "version": "3.9.13"
  }
 },
 "nbformat": 4,
 "nbformat_minor": 5
}
