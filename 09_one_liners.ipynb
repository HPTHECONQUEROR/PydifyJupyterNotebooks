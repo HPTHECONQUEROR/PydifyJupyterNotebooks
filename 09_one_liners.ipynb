{
 "cells": [
  {
   "cell_type": "markdown",
   "id": "8a0d4c26",
   "metadata": {},
   "source": [
    "# Swapping two Numbers"
   ]
  },
  {
   "cell_type": "code",
   "execution_count": 2,
   "id": "36f4d418",
   "metadata": {
    "scrolled": true
   },
   "outputs": [
    {
     "name": "stdout",
     "output_type": "stream",
     "text": [
      "a=1,b=2\n",
      "a=2,b=1\n"
     ]
    }
   ],
   "source": [
    "a,b=1,2\n",
    "c=0\n",
    "print(f'a={a},b={b}')\n",
    "c=b #c=2\n",
    "b=a #b=1\n",
    "a=c #a=2\n",
    "print(f'a={a},b={b}')"
   ]
  },
  {
   "cell_type": "code",
   "execution_count": 3,
   "id": "41b04782",
   "metadata": {},
   "outputs": [
    {
     "name": "stdout",
     "output_type": "stream",
     "text": [
      "a=1,b=2\n",
      "a=2,b=1\n"
     ]
    }
   ],
   "source": [
    "a,b=1,2\n",
    "print(f'a={a},b={b}')\n",
    "b,a=a,b\n",
    "print(f'a={a},b={b}')"
   ]
  },
  {
   "cell_type": "code",
   "execution_count": 26,
   "id": "769008e7",
   "metadata": {},
   "outputs": [
    {
     "name": "stdout",
     "output_type": "stream",
     "text": [
      "2 1\n"
     ]
    }
   ],
   "source": [
    "a,b=1,2\n",
    "a,b=b,a\n",
    "print(a,b)"
   ]
  },
  {
   "cell_type": "markdown",
   "id": "974c4960",
   "metadata": {},
   "source": [
    "# Ternary operator (if else... in one line)"
   ]
  },
  {
   "cell_type": "code",
   "execution_count": 28,
   "id": "e25eff81",
   "metadata": {},
   "outputs": [
    {
     "name": "stdout",
     "output_type": "stream",
     "text": [
      "Assignments over ah? no i don't \n",
      "You're dead !\n"
     ]
    }
   ],
   "source": [
    "assignment = input('Assignments over ah? ')\n",
    "\n",
    "if assignment ==\"over\":\n",
    "    print(\"You survived !\")\n",
    "else:\n",
    "    print(\"You're dead !\")"
   ]
  },
  {
   "cell_type": "code",
   "execution_count": 30,
   "id": "092cf1f0",
   "metadata": {},
   "outputs": [
    {
     "name": "stdout",
     "output_type": "stream",
     "text": [
      "Assignments over ah? not\n",
      "you're dead\n"
     ]
    }
   ],
   "source": [
    "assignment = input('Assignments over ah? ')\n",
    "print(\"You survived !\") if assignment==\"over\" else print(\"you're dead\")\n",
    "\n",
    "# <statement of if> if <condition> else <statement of else>"
   ]
  },
  {
   "cell_type": "markdown",
   "id": "4aa997aa",
   "metadata": {},
   "source": [
    "# Sep operator"
   ]
  },
  {
   "cell_type": "code",
   "execution_count": 41,
   "id": "97f2f20c",
   "metadata": {},
   "outputs": [
    {
     "name": "stdout",
     "output_type": "stream",
     "text": [
      "20|9|2003\n"
     ]
    }
   ],
   "source": [
    "date,month,year=20,9,2003\n",
    "print(date,month,year,sep=\"|\")"
   ]
  },
  {
   "cell_type": "markdown",
   "id": "d86b177a",
   "metadata": {},
   "source": [
    "# Usage of underscore in an integer"
   ]
  },
  {
   "cell_type": "code",
   "execution_count": 43,
   "id": "99cfa705",
   "metadata": {},
   "outputs": [
    {
     "name": "stdout",
     "output_type": "stream",
     "text": [
      "19000000\n"
     ]
    }
   ],
   "source": [
    "a=19_000_000\n",
    "print(a)"
   ]
  },
  {
   "cell_type": "markdown",
   "id": "70a93253",
   "metadata": {},
   "source": [
    "# The \"f\" string or formated string"
   ]
  },
  {
   "cell_type": "code",
   "execution_count": 1,
   "id": "84c35fc0",
   "metadata": {},
   "outputs": [
    {
     "name": "stdout",
     "output_type": "stream",
     "text": [
      "He's 39 and his wife is 21\n"
     ]
    }
   ],
   "source": [
    "age_w=21\n",
    "age_m=39\n",
    "print(f\"He's {age_m} and his wife is {age_w}\")\n",
    "# print(f\"{var} <string>\")"
   ]
  },
  {
   "cell_type": "markdown",
   "id": "76aa5e90",
   "metadata": {},
   "source": [
    "# The eval() function"
   ]
  },
  {
   "cell_type": "code",
   "execution_count": 4,
   "id": "9d3d4c57",
   "metadata": {
    "scrolled": true
   },
   "outputs": [
    {
     "name": "stdout",
     "output_type": "stream",
     "text": [
      "Enter an input 12\n",
      "<class 'int'>\n"
     ]
    }
   ],
   "source": [
    "a=int(input('Enter an input '))\n",
    "print(type(a))"
   ]
  },
  {
   "cell_type": "code",
   "execution_count": 8,
   "id": "ef1d58fc",
   "metadata": {
    "scrolled": true
   },
   "outputs": [
    {
     "name": "stdout",
     "output_type": "stream",
     "text": [
      "Enter an input 1.231\n",
      "1.231 <class 'float'>\n"
     ]
    }
   ],
   "source": [
    "a=eval(input('Enter an input '))\n",
    "print(a,type(a))"
   ]
  },
  {
   "cell_type": "markdown",
   "id": "73d5103e",
   "metadata": {},
   "source": [
    "# The complex Data type"
   ]
  },
  {
   "cell_type": "code",
   "execution_count": 13,
   "id": "fc092951",
   "metadata": {},
   "outputs": [
    {
     "data": {
      "text/plain": [
       "complex"
      ]
     },
     "execution_count": 13,
     "metadata": {},
     "output_type": "execute_result"
    }
   ],
   "source": [
    "type(1+2j)"
   ]
  },
  {
   "cell_type": "code",
   "execution_count": 14,
   "id": "9dc75e2f",
   "metadata": {
    "scrolled": true
   },
   "outputs": [
    {
     "name": "stdout",
     "output_type": "stream",
     "text": [
      "(23+0j)\n"
     ]
    }
   ],
   "source": [
    "a=23\n",
    "new_a=complex(a)\n",
    "print(new_a)"
   ]
  },
  {
   "cell_type": "markdown",
   "id": "199fa4c3",
   "metadata": {},
   "source": [
    "# The zip() function"
   ]
  },
  {
   "cell_type": "code",
   "execution_count": 59,
   "id": "58925f62",
   "metadata": {},
   "outputs": [
    {
     "data": {
      "text/plain": [
       "{'Bheem': 'Indumadhi', 'Raju': 'Chutki', 'Kalia': 'TuntunAunty'}"
      ]
     },
     "execution_count": 59,
     "metadata": {},
     "output_type": "execute_result"
    }
   ],
   "source": [
    "Boys = ['Bheem','Raju','Kalia']\n",
    "Girls = ['Indumadhi','Chutki','TuntunAunty']\n",
    "dholakpur = dict(zip(Boys,Girls))\n",
    "dholakpur"
   ]
  },
  {
   "cell_type": "code",
   "execution_count": 18,
   "id": "dc47efb1",
   "metadata": {},
   "outputs": [
    {
     "data": {
      "text/plain": [
       "[('Bheem', 'Indumadhi'), ('Raju', 'Chutki'), ('Kalia', 'TuntunAunty')]"
      ]
     },
     "execution_count": 18,
     "metadata": {},
     "output_type": "execute_result"
    }
   ],
   "source": [
    "dholakpur=list(zip(Boys,Girls))\n",
    "dholakpur"
   ]
  },
  {
   "cell_type": "code",
   "execution_count": 19,
   "id": "cf7fa2fb",
   "metadata": {},
   "outputs": [
    {
     "name": "stdout",
     "output_type": "stream",
     "text": [
      "Bheem Indumadhi\n",
      "Raju Chutki\n",
      "Kalia TuntunAunty\n"
     ]
    }
   ],
   "source": [
    "for i,j in dholakpur:\n",
    "    print(i,j)"
   ]
  },
  {
   "cell_type": "markdown",
   "id": "7b3fbea1",
   "metadata": {},
   "source": [
    "# .join operator"
   ]
  },
  {
   "cell_type": "code",
   "execution_count": 61,
   "id": "992cbbe0",
   "metadata": {},
   "outputs": [
    {
     "data": {
      "text/plain": [
       "'Indumadhi|Chutki|TuntunAunty'"
      ]
     },
     "execution_count": 61,
     "metadata": {},
     "output_type": "execute_result"
    }
   ],
   "source": [
    "new = \"|\".join(Girls)\n",
    "new"
   ]
  },
  {
   "cell_type": "markdown",
   "id": "a54a907c",
   "metadata": {},
   "source": [
    "# The filter() function"
   ]
  },
  {
   "cell_type": "code",
   "execution_count": 66,
   "id": "06277b8d",
   "metadata": {},
   "outputs": [
    {
     "data": {
      "text/plain": [
       "[88, 42, 4, 44, 708, 12, 4452]"
      ]
     },
     "execution_count": 66,
     "metadata": {},
     "output_type": "execute_result"
    }
   ],
   "source": [
    "def even(n):\n",
    "    return n%2==0 #true / false\n",
    "\n",
    "number=[88,42,1,3,4,44,708,12,3,4452]\n",
    "even_int=list(filter(even,number))\n",
    "even_int\n",
    "#filter(func,iterable)"
   ]
  },
  {
   "cell_type": "code",
   "execution_count": 67,
   "id": "9102f4d9",
   "metadata": {},
   "outputs": [
    {
     "name": "stdout",
     "output_type": "stream",
     "text": [
      "odd [1, 3, 3]\n",
      "even [88, 42, 4, 44, 708, 12, 4452]\n"
     ]
    }
   ],
   "source": [
    "print('odd',list(filter(lambda x:x%2!=0,number)))\n",
    "print('even',list(filter(lambda x:x%2==0,number)))"
   ]
  },
  {
   "cell_type": "code",
   "execution_count": 70,
   "id": "737482f8",
   "metadata": {},
   "outputs": [
    {
     "name": "stdout",
     "output_type": "stream",
     "text": [
      "['iphone13', 'iphone14'] ['samsung', 'mi']\n"
     ]
    }
   ],
   "source": [
    "mobiles = {'aos' :['samsung','mi','poco','pixel'],\n",
    "           'ios':['iphone13','iphone14','iphone15']}\n",
    "\n",
    "new_list = ['iphone13','samsung','mi','iphone14']\n",
    "\n",
    "ios_list = list(filter(lambda x:(x in mobiles['ios']),new_list))\n",
    "aos_list = list(filter(lambda x:(x in mobiles['aos']),new_list))\n",
    "print(ios_list,aos_list)"
   ]
  },
  {
   "cell_type": "markdown",
   "id": "912f0a3a",
   "metadata": {},
   "source": [
    "# Comprehensions"
   ]
  },
  {
   "cell_type": "markdown",
   "id": "b1e28eea",
   "metadata": {},
   "source": [
    "list comprehension"
   ]
  },
  {
   "cell_type": "code",
   "execution_count": 1,
   "id": "04c6187d",
   "metadata": {},
   "outputs": [
    {
     "name": "stdout",
     "output_type": "stream",
     "text": [
      "Enter the number of names you wanna enter : 3\n",
      "Enter the 1ist Name = anil\n",
      "Enter the 2ist Name = kiran\n",
      "Enter the 3ist Name = hari\n",
      "['anil', 'kiran', 'hari']\n"
     ]
    }
   ],
   "source": [
    "n=int(input(\"Enter the number of names you wanna enter : \"))\n",
    "name_list = []\n",
    "for i in range(n):\n",
    "    name = input(f'Enter the {i+1}st Name = ')\n",
    "    name_list.append(name)\n",
    "print(name_list)"
   ]
  },
  {
   "cell_type": "code",
   "execution_count": 4,
   "id": "0df3ab3c",
   "metadata": {},
   "outputs": [
    {
     "name": "stdout",
     "output_type": "stream",
     "text": [
      "kiran,hari,rahul,gandhi\n",
      "['kiran', 'hari', 'rahul', 'gandhi']\n"
     ]
    }
   ],
   "source": [
    "name_list = [i for i in input().split(',')]\n",
    "print(name_list)\n",
    "\n",
    "# [<statement> for <condition>]"
   ]
  },
  {
   "cell_type": "code",
   "execution_count": 26,
   "id": "5841cb10",
   "metadata": {},
   "outputs": [
    {
     "name": "stdout",
     "output_type": "stream",
     "text": [
      "karthi, kaja\n",
      "['karthi', ' kaja']\n"
     ]
    }
   ],
   "source": [
    "print([i for i in input().split(',')])"
   ]
  },
  {
   "cell_type": "raw",
   "id": "f7d7a590",
   "metadata": {},
   "source": [
    "dictionary comprehension"
   ]
  },
  {
   "cell_type": "code",
   "execution_count": 6,
   "id": "064f009b",
   "metadata": {
    "scrolled": true
   },
   "outputs": [
    {
     "name": "stdout",
     "output_type": "stream",
     "text": [
      "1,2,3,4\n"
     ]
    },
    {
     "data": {
      "text/plain": [
       "{'1': '1hello', '2': '2hello', '3': '3hello', '4': '4hello'}"
      ]
     },
     "execution_count": 6,
     "metadata": {},
     "output_type": "execute_result"
    }
   ],
   "source": [
    "dict_comp={i:i+'hello' for i in input().split(',')}\n",
    "dict_comp\n",
    "\n",
    "# {key:value for i condition}"
   ]
  },
  {
   "cell_type": "raw",
   "id": "2330b8a4",
   "metadata": {},
   "source": [
    "set comprehensions"
   ]
  },
  {
   "cell_type": "code",
   "execution_count": 7,
   "id": "8d5fecc0",
   "metadata": {},
   "outputs": [
    {
     "name": "stdout",
     "output_type": "stream",
     "text": [
      "1,2,2,3,3,4,5,4,5,6\n"
     ]
    },
    {
     "data": {
      "text/plain": [
       "{1, 2, 3, 4, 5, 6}"
      ]
     },
     "execution_count": 7,
     "metadata": {},
     "output_type": "execute_result"
    }
   ],
   "source": [
    "set_comp={int(i) for i in input().split(',')}\n",
    "set_comp"
   ]
  },
  {
   "cell_type": "code",
   "execution_count": 12,
   "id": "f9dd2547",
   "metadata": {},
   "outputs": [
    {
     "name": "stdout",
     "output_type": "stream",
     "text": [
      "\n",
      "*\n",
      "**\n",
      "***\n",
      "****\n"
     ]
    },
    {
     "data": {
      "text/plain": [
       "[None, None, None, None, None]"
      ]
     },
     "execution_count": 12,
     "metadata": {},
     "output_type": "execute_result"
    }
   ],
   "source": [
    "[print(i*'*') for i in range(5)]"
   ]
  }
 ],
 "metadata": {
  "kernelspec": {
   "display_name": "Python 3 (ipykernel)",
   "language": "python",
   "name": "python3"
  },
  "language_info": {
   "codemirror_mode": {
    "name": "ipython",
    "version": 3
   },
   "file_extension": ".py",
   "mimetype": "text/x-python",
   "name": "python",
   "nbconvert_exporter": "python",
   "pygments_lexer": "ipython3",
   "version": "3.9.13"
  }
 },
 "nbformat": 4,
 "nbformat_minor": 5
}
