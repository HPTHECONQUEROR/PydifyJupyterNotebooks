{
 "cells": [
  {
   "cell_type": "markdown",
   "id": "a5509094",
   "metadata": {},
   "source": [
    "# Numpy"
   ]
  },
  {
   "cell_type": "raw",
   "id": "d7a4edb3",
   "metadata": {},
   "source": [
    "NumPy is a Python library for multi-dimensional arrays and matrices.\n",
    "It includes a wide range of mathematical functions for performing operations on arrays.\n",
    "NumPy arrays are faster and more efficient than traditional Python lists.\n",
    "NumPy is commonly used in scientific computing, data analysis, and machine learning applications.\n",
    "NumPy can work with various data types and supports complex mathematical functions such as Fourier transform, statistical analysis, and linear algebra."
   ]
  },
  {
   "cell_type": "code",
   "execution_count": 50,
   "id": "65155b4e",
   "metadata": {},
   "outputs": [
    {
     "name": "stdout",
     "output_type": "stream",
     "text": [
      "[1 2 3 4 5]\n",
      "(3, 3)\n",
      "[2 3 4]\n",
      "[[2 3]\n",
      " [5 6]]\n",
      "[ 3  6  9 12 15]\n",
      "110\n",
      "5.0\n",
      "5\n"
     ]
    }
   ],
   "source": [
    "import numpy as np\n",
    "arr1d = np.array([1, 2, 3, 4, 5])\n",
    "arr2d = np.array([[1, 2, 3], [4, 5, 6], [7, 8, 9]])\n",
    "print(arr1d) \n",
    "print(arr2d.shape) \n",
    "print(arr1d[1:4])  \n",
    "print(arr2d[0:2, 1:3])  \n",
    "arr3 = np.array([2, 4, 6, 8, 10])\n",
    "print(arr1d + arr3)  \n",
    "print(np.dot(arr1d , arr3))\n",
    "print(np.mean(arr2d)) \n",
    "print(np.max(arr1d)) "
   ]
  },
  {
   "cell_type": "markdown",
   "id": "d6776aa5",
   "metadata": {},
   "source": [
    "# Pandas"
   ]
  },
  {
   "cell_type": "raw",
   "id": "a64b3db2",
   "metadata": {},
   "source": [
    "Pandas is a Python library for data manipulation and analysis.\n",
    "It provides data structures to efficiently handle and organize large datasets, including Series (1-dimensional) and DataFrame (2-dimensional) objects.\n",
    "Pandas allows for various data manipulation operations such as filtering, merging, grouping, and reshaping of datasets.\n",
    "It supports data cleaning operations such as missing value imputation, duplicate removal, and data type conversion.\n",
    "Pandas also provides functions for data visualization, data input/output (I/O), and statistical analysis of datasets."
   ]
  },
  {
   "cell_type": "code",
   "execution_count": 56,
   "id": "9d961ba1",
   "metadata": {},
   "outputs": [
    {
     "name": "stdout",
     "output_type": "stream",
     "text": [
      "    name  age gender           city\n",
      "0  Alice   25      F       New York\n",
      "1    Bob   32      M  San Francisco\n",
      "2   Hari   18      M        Chicago\n",
      "3   Dave   47      M    Los Angeles\n",
      "4    Eva   29      F         Boston\n",
      "name      object\n",
      "age        int64\n",
      "gender    object\n",
      "city      object\n",
      "dtype: object\n",
      "             age\n",
      "count   5.000000\n",
      "mean   30.200000\n",
      "std    10.756393\n",
      "min    18.000000\n",
      "25%    25.000000\n",
      "50%    29.000000\n",
      "75%    32.000000\n",
      "max    47.000000\n",
      "gender\n",
      "F    27.000000\n",
      "M    32.333333\n",
      "Name: age, dtype: float64\n",
      "    name  age gender           city\n",
      "0  Alice   25      F       New York\n",
      "1    Bob   32      M  San Francisco\n",
      "2   Hari   18      M        Chicago\n",
      "3   Dave   47      M    Los Angeles\n",
      "4    Eva   29      F         Boston\n"
     ]
    }
   ],
   "source": [
    "import pandas as pd\n",
    "\n",
    "# create a DataFrame with some sample data\n",
    "data = {\n",
    "    'name': ['Alice', 'Bob', 'Hari', 'Dave', 'Eva'],\n",
    "    'age': [25, 32, 18, 47, 29],\n",
    "    'gender': ['F', 'M', 'M', 'M', 'F'],\n",
    "    'city': ['New York', 'San Francisco', 'Chicago', 'Los Angeles', 'Boston']\n",
    "}\n",
    "df = pd.DataFrame(data)\n",
    "\n",
    "# print the first few rows of the DataFrame\n",
    "print(df.head())\n",
    "\n",
    "# print the data types of each column\n",
    "print(df.dtypes)\n",
    "\n",
    "# print some basic statistics for the numerical columns\n",
    "print(df.describe())\n",
    "\n",
    "# filter the DataFrame to only include rows where age is greater than 30\n",
    "filtered_df = df[df['age'] > 30]\n",
    "\n",
    "# group the DataFrame by gender and calculate the mean age for each group\n",
    "grouped_df = df.groupby('gender')['age'].mean()\n",
    "print(grouped_df)\n",
    "# export the DataFrame to a CSV file\n",
    "df.to_csv('names.csv', index=False)\n",
    "\n",
    "data =pd.read_csv('names.csv')\n",
    "print(data)"
   ]
  },
  {
   "cell_type": "markdown",
   "id": "4ed5d5b3",
   "metadata": {},
   "source": [
    "# Scipy"
   ]
  },
  {
   "cell_type": "raw",
   "id": "57ba35b4",
   "metadata": {},
   "source": [
    "Scipy is a Python library for scientific computing and technical computing.\n",
    "It is built on top of NumPy and provides additional modules for optimization, integration, interpolation, linear algebra, signal processing, and statistics.\n",
    "Scipy provides several optimization algorithms to find the optimal solution for a given function or objective.\n",
    "It provides numerical integration functions to solve differential equations and evaluate definite integrals.\n",
    "Scipy also provides functions for interpolation, signal filtering, Fourier analysis, and statistical analysis of data."
   ]
  },
  {
   "cell_type": "code",
   "execution_count": 3,
   "id": "e8fc2a2c",
   "metadata": {},
   "outputs": [
    {
     "name": "stdout",
     "output_type": "stream",
     "text": [
      "Mean: -0.025304851647780784\n",
      "Standard deviation: 0.8810219808453319\n",
      "Median: -0.009372071876852475\n",
      "T-statistic: -0.28578185374252046\n",
      "P-value: 0.7756423109797927\n"
     ]
    }
   ],
   "source": [
    "import numpy as np\n",
    "from scipy import stats\n",
    "\n",
    "# create a sample of normally distributed data\n",
    "data = np.random.normal(size=100)\n",
    "\n",
    "# calculate basic statistics\n",
    "mean = np.mean(data)\n",
    "std = np.std(data)\n",
    "median = np.median(data)\n",
    "\n",
    "# perform hypothesis testing\n",
    "t_stat, p_val = stats.ttest_1samp(data, 0)\n",
    "\n",
    "# print out results\n",
    "print(\"Mean:\", mean)\n",
    "print(\"Standard deviation:\", std)\n",
    "print(\"Median:\", median)\n",
    "print(\"T-statistic:\", t_stat)\n",
    "print(\"P-value:\", p_val)"
   ]
  },
  {
   "cell_type": "markdown",
   "id": "92a9e1a3",
   "metadata": {},
   "source": [
    "# Tensorflow"
   ]
  },
  {
   "cell_type": "raw",
   "id": "47a3d675",
   "metadata": {},
   "source": [
    "TensorFlow is an open-source machine learning framework developed by Google.\n",
    "It provides a flexible platform for building and training machine learning models, including neural networks and deep learning models.\n",
    "TensorFlow allows for efficient numerical computation on CPU, GPU, and TPU (Tensor Processing Unit) hardware architectures.\n",
    "It supports various model architectures and optimization algorithms, including convolutional neural networks (CNNs), recurrent neural networks (RNNs), and reinforcement learning algorithms.\n",
    "TensorFlow also provides a high-level API called Keras, which simplifies the process of building and training deep learning models, as well as several other tools for data preprocessing, visualization, and deployment."
   ]
  },
  {
   "cell_type": "code",
   "execution_count": 10,
   "id": "7bc0e175",
   "metadata": {},
   "outputs": [
    {
     "name": "stdout",
     "output_type": "stream",
     "text": [
      "[[19. 22.]\n",
      " [43. 50.]]\n"
     ]
    }
   ],
   "source": [
    "import tensorflow as tf\n",
    "import tensorflow.compat.v1 as tf\n",
    "tf.disable_v2_behavior()\n",
    "# create two constant tensors to perform matrix multiplication\n",
    "a = tf.constant([[1, 2], [3, 4]], dtype=tf.float32)\n",
    "b = tf.constant([[5, 6], [7, 8]], dtype=tf.float32)\n",
    "\n",
    "# perform matrix multiplication\n",
    "c = tf.matmul(a, b)\n",
    "\n",
    "# create a session to run the graph\n",
    "with tf.compat.v1.Session() as sess:\n",
    "    # run the graph and print the result\n",
    "    result = sess.run(c)\n",
    "    print(result)"
   ]
  },
  {
   "cell_type": "code",
   "execution_count": null,
   "id": "e4bba74e",
   "metadata": {},
   "outputs": [],
   "source": []
  }
 ],
 "metadata": {
  "kernelspec": {
   "display_name": "Python 3 (ipykernel)",
   "language": "python",
   "name": "python3"
  },
  "language_info": {
   "codemirror_mode": {
    "name": "ipython",
    "version": 3
   },
   "file_extension": ".py",
   "mimetype": "text/x-python",
   "name": "python",
   "nbconvert_exporter": "python",
   "pygments_lexer": "ipython3",
   "version": "3.9.13"
  }
 },
 "nbformat": 4,
 "nbformat_minor": 5
}
